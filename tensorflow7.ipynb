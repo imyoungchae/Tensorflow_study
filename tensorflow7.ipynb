{
  "nbformat": 4,
  "nbformat_minor": 0,
  "metadata": {
    "colab": {
      "name": "tensorflow7.ipynb",
      "provenance": [],
      "authorship_tag": "ABX9TyMZoXqfgZah0G6hRzz9nh8g",
      "include_colab_link": true
    },
    "kernelspec": {
      "name": "python3",
      "display_name": "Python 3"
    },
    "language_info": {
      "name": "python"
    },
    "accelerator": "GPU"
  },
  "cells": [
    {
      "cell_type": "markdown",
      "metadata": {
        "id": "view-in-github",
        "colab_type": "text"
      },
      "source": [
        "<a href=\"https://colab.research.google.com/github/imyoungchae/Tensorflow_study/blob/main/tensorflow7.ipynb\" target=\"_parent\"><img src=\"https://colab.research.google.com/assets/colab-badge.svg\" alt=\"Open In Colab\"/></a>"
      ]
    },
    {
      "cell_type": "markdown",
      "source": [
        "# RNN을 활용한 텍스트 분류(Text Classification)"
      ],
      "metadata": {
        "id": "c6ourvesJY4e"
      }
    },
    {
      "cell_type": "markdown",
      "source": [
        "# Import"
      ],
      "metadata": {
        "id": "DUY_va4HJfOu"
      }
    },
    {
      "cell_type": "code",
      "execution_count": 2,
      "metadata": {
        "id": "zX3oFk29JVY6"
      },
      "outputs": [],
      "source": [
        "import json\n",
        "import tensorflow as tf\n",
        "import numpy as np\n",
        "import urllib\n",
        "\n",
        "from tensorflow.keras.preprocessing.text import Tokenizer\n",
        "from tensorflow.keras.preprocessing.sequence import pad_sequences\n",
        "from tensorflow.keras.layers import Embedding, LSTM, Dense, Bidirectional, Flatten\n",
        "from tensorflow.keras.models import Sequential\n",
        "from tensorflow.keras.callbacks import ModelCheckpoint"
      ]
    },
    {
      "cell_type": "markdown",
      "source": [
        "Data Set Download"
      ],
      "metadata": {
        "id": "4BbnSVKTJpU2"
      }
    },
    {
      "cell_type": "code",
      "source": [
        "url = 'https://storage.googleapis.com/download.tensorflow.org/data/sarcasm.json'\n",
        "urllib.request.urlretrieve(url, 'sarcasm.json')"
      ],
      "metadata": {
        "colab": {
          "base_uri": "https://localhost:8080/"
        },
        "id": "29ZxUfAEJm86",
        "outputId": "b524c04c-44e7-40ba-e09a-4fb56b059016"
      },
      "execution_count": 3,
      "outputs": [
        {
          "output_type": "execute_result",
          "data": {
            "text/plain": [
              "('sarcasm.json', <http.client.HTTPMessage at 0x7f4984686510>)"
            ]
          },
          "metadata": {},
          "execution_count": 3
        }
      ]
    },
    {
      "cell_type": "markdown",
      "source": [
        "Json File Load"
      ],
      "metadata": {
        "id": "0bTjWcH4JtRX"
      }
    },
    {
      "cell_type": "code",
      "source": [
        "with open('sarcasm.json') as f:\n",
        "    datas = json.load(f)"
      ],
      "metadata": {
        "id": "oz2CIsujJwuU"
      },
      "execution_count": 4,
      "outputs": []
    },
    {
      "cell_type": "code",
      "source": [
        "datas[:5]"
      ],
      "metadata": {
        "colab": {
          "base_uri": "https://localhost:8080/"
        },
        "id": "fI-K4cA9Jxc9",
        "outputId": "41347342-a71e-4857-fee6-ea90ff98a74c"
      },
      "execution_count": 5,
      "outputs": [
        {
          "output_type": "execute_result",
          "data": {
            "text/plain": [
              "[{'article_link': 'https://www.huffingtonpost.com/entry/versace-black-code_us_5861fbefe4b0de3a08f600d5',\n",
              "  'headline': \"former versace store clerk sues over secret 'black code' for minority shoppers\",\n",
              "  'is_sarcastic': 0},\n",
              " {'article_link': 'https://www.huffingtonpost.com/entry/roseanne-revival-review_us_5ab3a497e4b054d118e04365',\n",
              "  'headline': \"the 'roseanne' revival catches up to our thorny political mood, for better and worse\",\n",
              "  'is_sarcastic': 0},\n",
              " {'article_link': 'https://local.theonion.com/mom-starting-to-fear-son-s-web-series-closest-thing-she-1819576697',\n",
              "  'headline': \"mom starting to fear son's web series closest thing she will have to grandchild\",\n",
              "  'is_sarcastic': 1},\n",
              " {'article_link': 'https://politics.theonion.com/boehner-just-wants-wife-to-listen-not-come-up-with-alt-1819574302',\n",
              "  'headline': 'boehner just wants wife to listen, not come up with alternative debt-reduction ideas',\n",
              "  'is_sarcastic': 1},\n",
              " {'article_link': 'https://www.huffingtonpost.com/entry/jk-rowling-wishes-snape-happy-birthday_us_569117c4e4b0cad15e64fdcb',\n",
              "  'headline': 'j.k. rowling wishes snape happy birthday in the most magical way',\n",
              "  'is_sarcastic': 0}]"
            ]
          },
          "metadata": {},
          "execution_count": 5
        }
      ]
    },
    {
      "cell_type": "markdown",
      "source": [
        "# 전처리: 데이터셋 구성(sentences,labels)"
      ],
      "metadata": {
        "id": "D8m7zO1qJ0SP"
      }
    },
    {
      "cell_type": "markdown",
      "source": [
        "- X(Feature):sentences\n",
        "- Y(Label):label"
      ],
      "metadata": {
        "id": "SzxGWQcmJ5j1"
      }
    },
    {
      "cell_type": "markdown",
      "source": [
        "빈 list 생성"
      ],
      "metadata": {
        "id": "gkIRhW4HKE_f"
      }
    },
    {
      "cell_type": "code",
      "source": [
        "sentences = []\n",
        "labels = []"
      ],
      "metadata": {
        "id": "6UlC093OJ-YU"
      },
      "execution_count": 6,
      "outputs": []
    },
    {
      "cell_type": "code",
      "source": [
        "for data in datas:\n",
        "    sentences.append(data['headline'])\n",
        "    labels.append(data['is_sarcastic'])"
      ],
      "metadata": {
        "id": "3rqY53HKKAR2"
      },
      "execution_count": 7,
      "outputs": []
    },
    {
      "cell_type": "markdown",
      "source": [
        "문장 5개 출력"
      ],
      "metadata": {
        "id": "nturL1HjKIfp"
      }
    },
    {
      "cell_type": "code",
      "source": [
        "sentences[:5]"
      ],
      "metadata": {
        "colab": {
          "base_uri": "https://localhost:8080/"
        },
        "id": "McBH8FOeKBVH",
        "outputId": "070129ac-06de-4f04-ab20-22cdb15d26ba"
      },
      "execution_count": 8,
      "outputs": [
        {
          "output_type": "execute_result",
          "data": {
            "text/plain": [
              "[\"former versace store clerk sues over secret 'black code' for minority shoppers\",\n",
              " \"the 'roseanne' revival catches up to our thorny political mood, for better and worse\",\n",
              " \"mom starting to fear son's web series closest thing she will have to grandchild\",\n",
              " 'boehner just wants wife to listen, not come up with alternative debt-reduction ideas',\n",
              " 'j.k. rowling wishes snape happy birthday in the most magical way']"
            ]
          },
          "metadata": {},
          "execution_count": 8
        }
      ]
    },
    {
      "cell_type": "code",
      "source": [
        "labels[:5]"
      ],
      "metadata": {
        "colab": {
          "base_uri": "https://localhost:8080/"
        },
        "id": "hsjFbR3kKLeb",
        "outputId": "3840ce1f-6a9a-469b-a3a4-0e93e668df51"
      },
      "execution_count": 9,
      "outputs": [
        {
          "output_type": "execute_result",
          "data": {
            "text/plain": [
              "[0, 0, 1, 1, 0]"
            ]
          },
          "metadata": {},
          "execution_count": 9
        }
      ]
    },
    {
      "cell_type": "markdown",
      "source": [
        "# Train/Validation Set 분리"
      ],
      "metadata": {
        "id": "mQJsAyszKMpu"
      }
    },
    {
      "cell_type": "code",
      "source": [
        "training_size = 20000"
      ],
      "metadata": {
        "id": "eHdJEnvRKQA8"
      },
      "execution_count": 10,
      "outputs": []
    },
    {
      "cell_type": "code",
      "source": [
        "train_sentences = sentences[:training_size]\n",
        "train_labels = labels[:training_size]"
      ],
      "metadata": {
        "id": "phO45AUlKRbp"
      },
      "execution_count": 11,
      "outputs": []
    },
    {
      "cell_type": "code",
      "source": [
        "validation_sentences = sentences[training_size:]\n",
        "validation_labels = labels[training_size:]"
      ],
      "metadata": {
        "id": "Uvb3-OpBKSS8"
      },
      "execution_count": 12,
      "outputs": []
    },
    {
      "cell_type": "markdown",
      "source": [
        "# 전처리1 Tokenizer 정의"
      ],
      "metadata": {
        "id": "WfeuJPEtKUuo"
      }
    },
    {
      "cell_type": "markdown",
      "source": [
        "- num_words: 단어 max 사이즈를 지정/ 가장 빈도수가 높은 단어부터 저장\n",
        "- oov_token: 단어 토큰에 없는 단어 표기 지정"
      ],
      "metadata": {
        "id": "6E6Cx73OKYA0"
      }
    },
    {
      "cell_type": "code",
      "source": [
        "vocab_size = 1000\n",
        "oov_tok = \"<OOV>\""
      ],
      "metadata": {
        "id": "6MkqK3K6KgZC"
      },
      "execution_count": 13,
      "outputs": []
    },
    {
      "cell_type": "code",
      "source": [
        "tokenizer = Tokenizer(num_words=vocab_size, oov_token='<OOV>')"
      ],
      "metadata": {
        "id": "qyp16Sr2Khff"
      },
      "execution_count": 14,
      "outputs": []
    },
    {
      "cell_type": "markdown",
      "source": [
        "# 전처리2 Tokenizer로 학습시킬 문장에 대한 토큰화"
      ],
      "metadata": {
        "id": "Na9EgvXNKlbv"
      }
    },
    {
      "cell_type": "markdown",
      "source": [
        "fit_on_texts로 학습시킬 문장에 대하여 토큰화 진행"
      ],
      "metadata": {
        "id": "o5Qu_1hWKtD_"
      }
    },
    {
      "cell_type": "code",
      "source": [
        "tokenizer.fit_on_texts(train_sentences)"
      ],
      "metadata": {
        "id": "2JLkpOSLKqqp"
      },
      "execution_count": 15,
      "outputs": []
    },
    {
      "cell_type": "code",
      "source": [
        "for key, value in tokenizer.word_index.items():\n",
        "    print('{}  \\t======>\\t {}'.format(key, value))\n",
        "    if value == 25:\n",
        "        break"
      ],
      "metadata": {
        "colab": {
          "base_uri": "https://localhost:8080/"
        },
        "id": "Wsnwmie0Kr5A",
        "outputId": "bdb8fadc-d105-4ffa-baf0-bb483929e47d"
      },
      "execution_count": 16,
      "outputs": [
        {
          "output_type": "stream",
          "name": "stdout",
          "text": [
            "<OOV>  \t======>\t 1\n",
            "to  \t======>\t 2\n",
            "of  \t======>\t 3\n",
            "the  \t======>\t 4\n",
            "in  \t======>\t 5\n",
            "for  \t======>\t 6\n",
            "a  \t======>\t 7\n",
            "on  \t======>\t 8\n",
            "and  \t======>\t 9\n",
            "with  \t======>\t 10\n",
            "is  \t======>\t 11\n",
            "new  \t======>\t 12\n",
            "trump  \t======>\t 13\n",
            "man  \t======>\t 14\n",
            "from  \t======>\t 15\n",
            "at  \t======>\t 16\n",
            "about  \t======>\t 17\n",
            "you  \t======>\t 18\n",
            "by  \t======>\t 19\n",
            "this  \t======>\t 20\n",
            "after  \t======>\t 21\n",
            "be  \t======>\t 22\n",
            "up  \t======>\t 23\n",
            "out  \t======>\t 24\n",
            "that  \t======>\t 25\n"
          ]
        }
      ]
    },
    {
      "cell_type": "markdown",
      "source": [
        "토큰화된 단어 사전의 갯수"
      ],
      "metadata": {
        "id": "te2xzvKgKyXf"
      }
    },
    {
      "cell_type": "code",
      "source": [
        "len(tokenizer.word_index)"
      ],
      "metadata": {
        "colab": {
          "base_uri": "https://localhost:8080/"
        },
        "id": "Qn2zc702K0Ce",
        "outputId": "80ae885f-7460-462b-8401-ab71a1f0e93a"
      },
      "execution_count": 17,
      "outputs": [
        {
          "output_type": "execute_result",
          "data": {
            "text/plain": [
              "25637"
            ]
          },
          "metadata": {},
          "execution_count": 17
        }
      ]
    },
    {
      "cell_type": "markdown",
      "source": [
        "dictionary 형태로 되어 있기에 \n",
        "\n",
        "단어를 key로 입력하면 값을 return"
      ],
      "metadata": {
        "id": "fUBdDBLBK2Nv"
      }
    },
    {
      "cell_type": "code",
      "source": [
        "word_index = tokenizer.word_index"
      ],
      "metadata": {
        "id": "xIiDJPbbK63X"
      },
      "execution_count": 18,
      "outputs": []
    },
    {
      "cell_type": "code",
      "source": [
        "word_index['trump']"
      ],
      "metadata": {
        "colab": {
          "base_uri": "https://localhost:8080/"
        },
        "id": "hjyzqKMLK7zx",
        "outputId": "a5b82ff7-b65d-4e09-f268-736fbfab5241"
      },
      "execution_count": 19,
      "outputs": [
        {
          "output_type": "execute_result",
          "data": {
            "text/plain": [
              "13"
            ]
          },
          "metadata": {},
          "execution_count": 19
        }
      ]
    },
    {
      "cell_type": "code",
      "source": [
        "word_index['hello']"
      ],
      "metadata": {
        "colab": {
          "base_uri": "https://localhost:8080/"
        },
        "id": "lpmXBHwQK8o0",
        "outputId": "c5bc3cd1-8c5f-47a0-903a-f952f1628c76"
      },
      "execution_count": 20,
      "outputs": [
        {
          "output_type": "execute_result",
          "data": {
            "text/plain": [
              "11724"
            ]
          },
          "metadata": {},
          "execution_count": 20
        }
      ]
    },
    {
      "cell_type": "code",
      "source": [
        "word_index['<OOV>']"
      ],
      "metadata": {
        "colab": {
          "base_uri": "https://localhost:8080/"
        },
        "id": "pS0WDQw9K9tR",
        "outputId": "90c7820d-199e-433f-ce37-9d704d401a01"
      },
      "execution_count": 21,
      "outputs": [
        {
          "output_type": "execute_result",
          "data": {
            "text/plain": [
              "1"
            ]
          },
          "metadata": {},
          "execution_count": 21
        }
      ]
    },
    {
      "cell_type": "markdown",
      "source": [
        "# 전처리3 sentences를 토큰으로 변경(치환)"
      ],
      "metadata": {
        "id": "_IINNsp5LA8U"
      }
    },
    {
      "cell_type": "code",
      "source": [
        "train_sequences = tokenizer.texts_to_sequences(train_sentences)\n",
        "validation_sequences = tokenizer.texts_to_sequences(validation_sentences)"
      ],
      "metadata": {
        "id": "c996I2dcLFAp"
      },
      "execution_count": 22,
      "outputs": []
    },
    {
      "cell_type": "code",
      "source": [
        "train_sequences[:5]"
      ],
      "metadata": {
        "colab": {
          "base_uri": "https://localhost:8080/"
        },
        "id": "_5KV72dFLGAr",
        "outputId": "aa7db468-4968-49c6-f01c-2eaf1c4be54a"
      },
      "execution_count": 23,
      "outputs": [
        {
          "output_type": "execute_result",
          "data": {
            "text/plain": [
              "[[328, 1, 799, 1, 1, 47, 389, 1, 1, 6, 1, 1],\n",
              " [4, 1, 1, 1, 23, 2, 161, 1, 390, 1, 6, 251, 9, 889],\n",
              " [153, 890, 2, 891, 1, 1, 595, 1, 221, 133, 36, 45, 2, 1],\n",
              " [1, 38, 213, 382, 2, 1, 29, 288, 23, 10, 1, 1, 1, 958],\n",
              " [715, 672, 1, 1, 1, 662, 553, 5, 4, 92, 1, 90]]"
            ]
          },
          "metadata": {},
          "execution_count": 23
        }
      ]
    },
    {
      "cell_type": "markdown",
      "source": [
        "변환과정에서 \"로 변환된 단어 확인\n",
        "\n",
        "빈도수로 지정한 num_words=1000에 의거하여, 빈도수가 1000번째보다 떨어지는 단어는 자동으로 1로 치환된다.\n",
        "\n",
        "즉 1은 \"임(Out of Vocab)"
      ],
      "metadata": {
        "id": "iFO-DSipLNEY"
      }
    },
    {
      "cell_type": "code",
      "source": [
        "train_sentences[4]"
      ],
      "metadata": {
        "colab": {
          "base_uri": "https://localhost:8080/",
          "height": 35
        },
        "id": "I3oLK7U2LZ3v",
        "outputId": "dd7b3582-0b5a-4018-ac33-d095fa5b594a"
      },
      "execution_count": 24,
      "outputs": [
        {
          "output_type": "execute_result",
          "data": {
            "text/plain": [
              "'j.k. rowling wishes snape happy birthday in the most magical way'"
            ],
            "application/vnd.google.colaboratory.intrinsic+json": {
              "type": "string"
            }
          },
          "metadata": {},
          "execution_count": 24
        }
      ]
    },
    {
      "cell_type": "code",
      "source": [
        "word_index['j'], word_index['k'], word_index['rowling'], word_index['wishes'], word_index['snape'], word_index['happy']"
      ],
      "metadata": {
        "colab": {
          "base_uri": "https://localhost:8080/"
        },
        "id": "10uE15JWLbLF",
        "outputId": "faa6e5b2-4541-43b6-f752-87cb46d09fda"
      },
      "execution_count": 25,
      "outputs": [
        {
          "output_type": "execute_result",
          "data": {
            "text/plain": [
              "(715, 672, 5652, 1043, 8865, 662)"
            ]
          },
          "metadata": {},
          "execution_count": 25
        }
      ]
    },
    {
      "cell_type": "code",
      "source": [
        "train_sequences[4]"
      ],
      "metadata": {
        "colab": {
          "base_uri": "https://localhost:8080/"
        },
        "id": "AWMtSI-WLchT",
        "outputId": "8866a991-086f-4371-d523-7d0934873dcf"
      },
      "execution_count": 26,
      "outputs": [
        {
          "output_type": "execute_result",
          "data": {
            "text/plain": [
              "[715, 672, 1, 1, 1, 662, 553, 5, 4, 92, 1, 90]"
            ]
          },
          "metadata": {},
          "execution_count": 26
        }
      ]
    },
    {
      "cell_type": "markdown",
      "source": [
        "# 전처리4 시퀀스의 길이를 맞춰주기"
      ],
      "metadata": {
        "id": "TfYSp4u3LeHJ"
      }
    },
    {
      "cell_type": "markdown",
      "source": [
        "- maxlen: 최대 문장 길이를 정의, 최대 문장길이보다 길면 잘라낸다\n",
        "- truncating: 문장의 길이가 maxlen보다 길 때 앞을 자를지 뒤를 자를지 정의\n",
        "- padding: 문장의 길이가 maxlen보다 짧을 때 채워줄 값을 앞을 채울지 뒤를 채울지 정의"
      ],
      "metadata": {
        "id": "DkPxrCl6Lhfh"
      }
    },
    {
      "cell_type": "code",
      "source": [
        "# 한 문장의 최대 단어 숫자\n",
        "max_length = 120\n",
        "\n",
        "# 잘라낼 문장의 위치\n",
        "trunc_type='post' # pre로 지정하면 앞을 잘라줌\n",
        "\n",
        "# 채워줄 문장의 위치\n",
        "padding_type='post'"
      ],
      "metadata": {
        "id": "ChE0nh8nLt5N"
      },
      "execution_count": 27,
      "outputs": []
    },
    {
      "cell_type": "code",
      "source": [
        "train_padded = pad_sequences(train_sequences, maxlen=max_length, truncating=trunc_type, padding=padding_type)\n",
        "validation_padded = pad_sequences(validation_sequences, maxlen=max_length, padding=padding_type, truncating=trunc_type)"
      ],
      "metadata": {
        "id": "1FZUJbkpLxOD"
      },
      "execution_count": 28,
      "outputs": []
    },
    {
      "cell_type": "markdown",
      "source": [
        "변환 후 shape 확인"
      ],
      "metadata": {
        "id": "HVpYPgBvL3rc"
      }
    },
    {
      "cell_type": "code",
      "source": [
        "train_padded.shape"
      ],
      "metadata": {
        "colab": {
          "base_uri": "https://localhost:8080/"
        },
        "id": "MfH1YuriL2q7",
        "outputId": "8f6c08d3-9800-4b44-bf37-c2c635558842"
      },
      "execution_count": 29,
      "outputs": [
        {
          "output_type": "execute_result",
          "data": {
            "text/plain": [
              "(20000, 120)"
            ]
          },
          "metadata": {},
          "execution_count": 29
        }
      ]
    },
    {
      "cell_type": "markdown",
      "source": [
        "# 전처리5 Label 값을 numpy array로 변환"
      ],
      "metadata": {
        "id": "5i9eF0t-L5T7"
      }
    },
    {
      "cell_type": "markdown",
      "source": [
        "model이 list 타입은 받아들이지 못하므로, numpy array로 변환"
      ],
      "metadata": {
        "id": "6XOZKBBRL97z"
      }
    },
    {
      "cell_type": "code",
      "source": [
        "train_labels = np.array(train_labels)\n",
        "validation_labels = np.array(validation_labels)"
      ],
      "metadata": {
        "id": "0V6O28V_MCvr"
      },
      "execution_count": 30,
      "outputs": []
    },
    {
      "cell_type": "markdown",
      "source": [
        "# Embedding Layer"
      ],
      "metadata": {
        "id": "dGemsqV9MG5j"
      }
    },
    {
      "cell_type": "markdown",
      "source": [
        "고차원을 저차원으로 축소\n",
        "\n",
        "one-hot encoding을 진행했을 때,1000차원으로 표현되는 단어들을 16차원으로 줄여준다\n",
        "\n",
        "그렇게 sparsity 문제를 해소하도록 유도"
      ],
      "metadata": {
        "id": "rjw91IE_MJIB"
      }
    },
    {
      "cell_type": "code",
      "source": [
        "embedding_dim = 16"
      ],
      "metadata": {
        "id": "wKMeBp0CMUzD"
      },
      "execution_count": 31,
      "outputs": []
    },
    {
      "cell_type": "markdown",
      "source": [
        "변환 전"
      ],
      "metadata": {
        "id": "jVPtC6c9MWSJ"
      }
    },
    {
      "cell_type": "code",
      "source": [
        "sample = np.array(train_padded[0])\n",
        "sample"
      ],
      "metadata": {
        "colab": {
          "base_uri": "https://localhost:8080/"
        },
        "id": "wqEWcKwCMXbD",
        "outputId": "c4619e74-c369-41db-b112-f9cb6d2703f2"
      },
      "execution_count": 32,
      "outputs": [
        {
          "output_type": "execute_result",
          "data": {
            "text/plain": [
              "array([328,   1, 799,   1,   1,  47, 389,   1,   1,   6,   1,   1,   0,\n",
              "         0,   0,   0,   0,   0,   0,   0,   0,   0,   0,   0,   0,   0,\n",
              "         0,   0,   0,   0,   0,   0,   0,   0,   0,   0,   0,   0,   0,\n",
              "         0,   0,   0,   0,   0,   0,   0,   0,   0,   0,   0,   0,   0,\n",
              "         0,   0,   0,   0,   0,   0,   0,   0,   0,   0,   0,   0,   0,\n",
              "         0,   0,   0,   0,   0,   0,   0,   0,   0,   0,   0,   0,   0,\n",
              "         0,   0,   0,   0,   0,   0,   0,   0,   0,   0,   0,   0,   0,\n",
              "         0,   0,   0,   0,   0,   0,   0,   0,   0,   0,   0,   0,   0,\n",
              "         0,   0,   0,   0,   0,   0,   0,   0,   0,   0,   0,   0,   0,\n",
              "         0,   0,   0], dtype=int32)"
            ]
          },
          "metadata": {},
          "execution_count": 32
        }
      ]
    },
    {
      "cell_type": "markdown",
      "source": [
        "변환후"
      ],
      "metadata": {
        "id": "593VVJEnMZ8x"
      }
    },
    {
      "cell_type": "code",
      "source": [
        "x = Embedding(vocab_size, embedding_dim, input_length=max_length)\n",
        "x(sample)[0]"
      ],
      "metadata": {
        "colab": {
          "base_uri": "https://localhost:8080/"
        },
        "id": "GBmpinAAMb3R",
        "outputId": "939307c0-74d5-403e-e58e-e31bd72a81e2"
      },
      "execution_count": 33,
      "outputs": [
        {
          "output_type": "execute_result",
          "data": {
            "text/plain": [
              "<tf.Tensor: shape=(16,), dtype=float32, numpy=\n",
              "array([-0.00425289,  0.04989028,  0.02514178, -0.04698789, -0.02557875,\n",
              "        0.0252254 , -0.03190561,  0.02181137, -0.04404591,  0.01507875,\n",
              "        0.03196276, -0.04501891, -0.02909668,  0.0245293 ,  0.00559751,\n",
              "       -0.04455447], dtype=float32)>"
            ]
          },
          "metadata": {},
          "execution_count": 33
        }
      ]
    },
    {
      "cell_type": "markdown",
      "source": [
        "# Sequential"
      ],
      "metadata": {
        "id": "NxfMyiG4MdeV"
      }
    },
    {
      "cell_type": "code",
      "source": [
        "model = Sequential([\n",
        "    Embedding(vocab_size, embedding_dim, input_length=max_length),# (1000,16,120)\n",
        "    Bidirectional(LSTM(64, return_sequences=True)), # 겹쳐진 부분에서는 return_sequences=True\n",
        "    Bidirectional(LSTM(64)),# 단일값으로 나오게끔 모델링\n",
        "    Dense(32, activation='relu'),\n",
        "    Dense(16, activation='relu'),\n",
        "    Dense(1, activation='sigmoid')\n",
        "])"
      ],
      "metadata": {
        "id": "mOoOkeSLMfOp"
      },
      "execution_count": 34,
      "outputs": []
    },
    {
      "cell_type": "code",
      "source": [
        "model.summary()"
      ],
      "metadata": {
        "colab": {
          "base_uri": "https://localhost:8080/"
        },
        "id": "z8M5eAj9MiDU",
        "outputId": "8228bac9-13c0-498a-ffda-fa2ec8b23419"
      },
      "execution_count": 35,
      "outputs": [
        {
          "output_type": "stream",
          "name": "stdout",
          "text": [
            "Model: \"sequential\"\n",
            "_________________________________________________________________\n",
            " Layer (type)                Output Shape              Param #   \n",
            "=================================================================\n",
            " embedding_1 (Embedding)     (None, 120, 16)           16000     \n",
            "                                                                 \n",
            " bidirectional (Bidirectiona  (None, 120, 128)         41472     \n",
            " l)                                                              \n",
            "                                                                 \n",
            " bidirectional_1 (Bidirectio  (None, 128)              98816     \n",
            " nal)                                                            \n",
            "                                                                 \n",
            " dense (Dense)               (None, 32)                4128      \n",
            "                                                                 \n",
            " dense_1 (Dense)             (None, 16)                528       \n",
            "                                                                 \n",
            " dense_2 (Dense)             (None, 1)                 17        \n",
            "                                                                 \n",
            "=================================================================\n",
            "Total params: 160,961\n",
            "Trainable params: 160,961\n",
            "Non-trainable params: 0\n",
            "_________________________________________________________________\n"
          ]
        }
      ]
    },
    {
      "cell_type": "markdown",
      "source": [
        "# Compile"
      ],
      "metadata": {
        "id": "awwrP6niMjlh"
      }
    },
    {
      "cell_type": "code",
      "source": [
        "model.compile(optimizer='adam', loss='binary_crossentropy', metrics=['acc'])"
      ],
      "metadata": {
        "id": "VkvmF-2OMmZF"
      },
      "execution_count": 36,
      "outputs": []
    },
    {
      "cell_type": "markdown",
      "source": [
        "# ModelCheckpoint"
      ],
      "metadata": {
        "id": "f_JrCxUHMndt"
      }
    },
    {
      "cell_type": "code",
      "source": [
        "checkpoint_path = 'my_checkpoint.ckpt'\n",
        "checkpoint = ModelCheckpoint(checkpoint_path, \n",
        "                             save_weights_only=True, \n",
        "                             save_best_only=True, \n",
        "                             monitor='val_loss',\n",
        "                             verbose=1)"
      ],
      "metadata": {
        "id": "khiiNo3NMpvR"
      },
      "execution_count": 37,
      "outputs": []
    },
    {
      "cell_type": "markdown",
      "source": [
        "# Fit"
      ],
      "metadata": {
        "id": "zXySuzwPMrWE"
      }
    },
    {
      "cell_type": "code",
      "source": [
        "epochs=10"
      ],
      "metadata": {
        "id": "e4tQKbDNMs6-"
      },
      "execution_count": 38,
      "outputs": []
    },
    {
      "cell_type": "code",
      "source": [
        "history = model.fit(train_padded, train_labels, \n",
        "                    validation_data=(validation_padded, validation_labels),\n",
        "                    callbacks=[checkpoint],\n",
        "                    epochs=epochs)"
      ],
      "metadata": {
        "colab": {
          "base_uri": "https://localhost:8080/"
        },
        "id": "ra-XWCrfMuKL",
        "outputId": "67b46142-ad4d-4e45-c4a2-e02232e23ae8"
      },
      "execution_count": 39,
      "outputs": [
        {
          "output_type": "stream",
          "name": "stdout",
          "text": [
            "Epoch 1/10\n",
            "625/625 [==============================] - ETA: 0s - loss: 0.4474 - acc: 0.7756\n",
            "Epoch 1: val_loss improved from inf to 0.39563, saving model to my_checkpoint.ckpt\n",
            "625/625 [==============================] - 98s 141ms/step - loss: 0.4474 - acc: 0.7756 - val_loss: 0.3956 - val_acc: 0.8177\n",
            "Epoch 2/10\n",
            "625/625 [==============================] - ETA: 0s - loss: 0.3526 - acc: 0.8382\n",
            "Epoch 2: val_loss improved from 0.39563 to 0.37472, saving model to my_checkpoint.ckpt\n",
            "625/625 [==============================] - 87s 139ms/step - loss: 0.3526 - acc: 0.8382 - val_loss: 0.3747 - val_acc: 0.8296\n",
            "Epoch 3/10\n",
            "625/625 [==============================] - ETA: 0s - loss: 0.3284 - acc: 0.8535\n",
            "Epoch 3: val_loss did not improve from 0.37472\n",
            "625/625 [==============================] - 87s 139ms/step - loss: 0.3284 - acc: 0.8535 - val_loss: 0.3869 - val_acc: 0.8304\n",
            "Epoch 4/10\n",
            "625/625 [==============================] - ETA: 0s - loss: 0.3114 - acc: 0.8638\n",
            "Epoch 4: val_loss did not improve from 0.37472\n",
            "625/625 [==============================] - 87s 139ms/step - loss: 0.3114 - acc: 0.8638 - val_loss: 0.3787 - val_acc: 0.8261\n",
            "Epoch 5/10\n",
            "625/625 [==============================] - ETA: 0s - loss: 0.2957 - acc: 0.8702\n",
            "Epoch 5: val_loss did not improve from 0.37472\n",
            "625/625 [==============================] - 87s 139ms/step - loss: 0.2957 - acc: 0.8702 - val_loss: 0.3805 - val_acc: 0.8337\n",
            "Epoch 6/10\n",
            "625/625 [==============================] - ETA: 0s - loss: 0.2839 - acc: 0.8772\n",
            "Epoch 6: val_loss did not improve from 0.37472\n",
            "625/625 [==============================] - 86s 138ms/step - loss: 0.2839 - acc: 0.8772 - val_loss: 0.3870 - val_acc: 0.8316\n",
            "Epoch 7/10\n",
            "625/625 [==============================] - ETA: 0s - loss: 0.2750 - acc: 0.8824\n",
            "Epoch 7: val_loss did not improve from 0.37472\n",
            "625/625 [==============================] - 87s 139ms/step - loss: 0.2750 - acc: 0.8824 - val_loss: 0.3806 - val_acc: 0.8271\n",
            "Epoch 8/10\n",
            "625/625 [==============================] - ETA: 0s - loss: 0.2640 - acc: 0.8848\n",
            "Epoch 8: val_loss did not improve from 0.37472\n",
            "625/625 [==============================] - 86s 138ms/step - loss: 0.2640 - acc: 0.8848 - val_loss: 0.3983 - val_acc: 0.8284\n",
            "Epoch 9/10\n",
            "625/625 [==============================] - ETA: 0s - loss: 0.2555 - acc: 0.8924\n",
            "Epoch 9: val_loss did not improve from 0.37472\n",
            "625/625 [==============================] - 87s 139ms/step - loss: 0.2555 - acc: 0.8924 - val_loss: 0.4067 - val_acc: 0.8247\n",
            "Epoch 10/10\n",
            "625/625 [==============================] - ETA: 0s - loss: 0.2477 - acc: 0.8967\n",
            "Epoch 10: val_loss did not improve from 0.37472\n",
            "625/625 [==============================] - 87s 139ms/step - loss: 0.2477 - acc: 0.8967 - val_loss: 0.4268 - val_acc: 0.8246\n"
          ]
        }
      ]
    },
    {
      "cell_type": "markdown",
      "source": [
        "# Load Weights"
      ],
      "metadata": {
        "id": "gxISMpjARoL2"
      }
    },
    {
      "cell_type": "code",
      "source": [
        "model.load_weights(checkpoint_path)"
      ],
      "metadata": {
        "colab": {
          "base_uri": "https://localhost:8080/"
        },
        "id": "HAhWp_vXRkI0",
        "outputId": "6063212b-f671-40ff-afb0-c6e200fd71bf"
      },
      "execution_count": 40,
      "outputs": [
        {
          "output_type": "execute_result",
          "data": {
            "text/plain": [
              "<tensorflow.python.training.tracking.util.CheckpointLoadStatus at 0x7f49003fde50>"
            ]
          },
          "metadata": {},
          "execution_count": 40
        }
      ]
    },
    {
      "cell_type": "markdown",
      "source": [
        "# 학습 오차 시각화"
      ],
      "metadata": {
        "id": "bZsIS2SpRrmY"
      }
    },
    {
      "cell_type": "code",
      "source": [
        "import matplotlib.pyplot as plt"
      ],
      "metadata": {
        "id": "Geu4I565RuTk"
      },
      "execution_count": 41,
      "outputs": []
    },
    {
      "cell_type": "code",
      "source": [
        "plt.figure(figsize=(12, 9))\n",
        "plt.plot(np.arange(1, epochs+1), history.history['loss'])\n",
        "plt.plot(np.arange(1, epochs+1), history.history['val_loss'])\n",
        "plt.title('Loss / Val Loss', fontsize=20)\n",
        "plt.xlabel('Epochs')\n",
        "plt.ylabel('Loss')\n",
        "plt.legend(['loss', 'val_loss'], fontsize=15)\n",
        "plt.show()"
      ],
      "metadata": {
        "colab": {
          "base_uri": "https://localhost:8080/",
          "height": 572
        },
        "id": "gQMRjJO6RvZ4",
        "outputId": "48b751a8-9a99-4bbe-b3c5-4cf0d2e84693"
      },
      "execution_count": 42,
      "outputs": [
        {
          "output_type": "display_data",
          "data": {
            "text/plain": [
              "<Figure size 864x648 with 1 Axes>"
            ],
            "image/png": "[encoded data removed]"
          },
          "metadata": {
            "needs_background": "light"
          }
        }
      ]
    },
    {
      "cell_type": "code",
      "source": [
        "plt.figure(figsize=(12, 9))\n",
        "plt.plot(np.arange(1, epochs+1), history.history['acc'])\n",
        "plt.plot(np.arange(1, epochs+1), history.history['val_acc'])\n",
        "plt.title('Acc / Val Acc', fontsize=20)\n",
        "plt.xlabel('Epochs')\n",
        "plt.ylabel('Acc')\n",
        "plt.legend(['acc', 'val_acc'], fontsize=15)\n",
        "plt.show()"
      ],
      "metadata": {
        "id": "QlaFag9VRymS",
        "outputId": "7115f508-1132-4bfd-f271-3a38495a5878",
        "colab": {
          "base_uri": "https://localhost:8080/",
          "height": 572
        }
      },
      "execution_count": 43,
      "outputs": [
        {
          "output_type": "display_data",
          "data": {
            "text/plain": [
              "<Figure size 864x648 with 1 Axes>"
            ],
            "image/png": "[encoded data removed]"
          },
          "metadata": {
            "needs_background": "light"
          }
        }
      ]
    }
  ]
}