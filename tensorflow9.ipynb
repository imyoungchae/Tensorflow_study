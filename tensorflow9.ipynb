{
  "nbformat": 4,
  "nbformat_minor": 0,
  "metadata": {
    "colab": {
      "name": "tensorflow9.ipynb",
      "provenance": [],
      "authorship_tag": "ABX9TyOnhQhHFVuxnTZQwuyMQpN8",
      "include_colab_link": true
    },
    "kernelspec": {
      "name": "python3",
      "display_name": "Python 3"
    },
    "language_info": {
      "name": "python"
    }
  },
  "cells": [
    {
      "cell_type": "markdown",
      "metadata": {
        "id": "view-in-github",
        "colab_type": "text"
      },
      "source": [
        "<a href=\"https://colab.research.google.com/github/imyoungchae/Tensorflow_study/blob/main/tensorflow9.ipynb\" target=\"_parent\"><img src=\"https://colab.research.google.com/assets/colab-badge.svg\" alt=\"Open In Colab\"/></a>"
      ]
    },
    {
      "cell_type": "markdown",
      "source": [
        "# Individual House Hold Electric Power Consumption Dataset을 활용한 예측"
      ],
      "metadata": {
        "id": "q8IVbtcZ1WZ8"
      }
    },
    {
      "cell_type": "markdown",
      "source": [
        "# Import"
      ],
      "metadata": {
        "id": "SVU8ZyCA1hKv"
      }
    },
    {
      "cell_type": "code",
      "execution_count": 3,
      "metadata": {
        "id": "nadywCxH1Su3"
      },
      "outputs": [],
      "source": [
        "import urllib\n",
        "import os\n",
        "import zipfile\n",
        "import pandas as pd\n",
        "\n",
        "import tensorflow as tf\n",
        "from tensorflow.keras.layers import Dense, Conv1D, LSTM, Bidirectional\n",
        "from tensorflow.keras.models import Sequential\n",
        "from tensorflow.keras.callbacks import ModelCheckpoint"
      ]
    },
    {
      "cell_type": "markdown",
      "source": [
        "# 데이터셋 다운로드"
      ],
      "metadata": {
        "id": "AdA8sbQJ1jQt"
      }
    },
    {
      "cell_type": "code",
      "source": [
        "def download_and_extract_data():\n",
        "    url = 'https://storage.googleapis.com/download.tensorflow.org/data/certificate/household_power.zip'\n",
        "    urllib.request.urlretrieve(url, 'household_power.zip')\n",
        "    with zipfile.ZipFile('household_power.zip', 'r') as zip_ref:\n",
        "        zip_ref.extractall()"
      ],
      "metadata": {
        "id": "NRpluSBp1lIn"
      },
      "execution_count": 4,
      "outputs": []
    },
    {
      "cell_type": "code",
      "source": [
        "download_and_extract_data()"
      ],
      "metadata": {
        "id": "mx6LuyB-1o8d"
      },
      "execution_count": 5,
      "outputs": []
    },
    {
      "cell_type": "code",
      "source": [
        "df = pd.read_csv('household_power_consumption.csv', sep=',', infer_datetime_format=True, index_col='datetime', header=0)\n",
        "df.head(10)"
      ],
      "metadata": {
        "colab": {
          "base_uri": "https://localhost:8080/",
          "height": 806
        },
        "id": "i0fixnXj1s6g",
        "outputId": "90937bca-dcde-4d2b-dd50-71ea3c3d5ecf"
      },
      "execution_count": 6,
      "outputs": [
        {
          "output_type": "execute_result",
          "data": {
            "text/plain": [
              "                     Global_active_power  Global_reactive_power  Voltage  \\\n",
              "datetime                                                                   \n",
              "2006-12-16 17:24:00                4.216                  0.418   234.84   \n",
              "2006-12-16 17:25:00                5.360                  0.436   233.63   \n",
              "2006-12-16 17:26:00                5.374                  0.498   233.29   \n",
              "2006-12-16 17:27:00                5.388                  0.502   233.74   \n",
              "2006-12-16 17:28:00                3.666                  0.528   235.68   \n",
              "2006-12-16 17:29:00                3.520                  0.522   235.02   \n",
              "2006-12-16 17:30:00                3.702                  0.520   235.09   \n",
              "2006-12-16 17:31:00                3.700                  0.520   235.22   \n",
              "2006-12-16 17:32:00                3.668                  0.510   233.99   \n",
              "2006-12-16 17:33:00                3.662                  0.510   233.86   \n",
              "\n",
              "                     Global_intensity  Sub_metering_1  Sub_metering_2  \\\n",
              "datetime                                                                \n",
              "2006-12-16 17:24:00              18.4             0.0             1.0   \n",
              "2006-12-16 17:25:00              23.0             0.0             1.0   \n",
              "2006-12-16 17:26:00              23.0             0.0             2.0   \n",
              "2006-12-16 17:27:00              23.0             0.0             1.0   \n",
              "2006-12-16 17:28:00              15.8             0.0             1.0   \n",
              "2006-12-16 17:29:00              15.0             0.0             2.0   \n",
              "2006-12-16 17:30:00              15.8             0.0             1.0   \n",
              "2006-12-16 17:31:00              15.8             0.0             1.0   \n",
              "2006-12-16 17:32:00              15.8             0.0             1.0   \n",
              "2006-12-16 17:33:00              15.8             0.0             2.0   \n",
              "\n",
              "                     Sub_metering_3  \n",
              "datetime                             \n",
              "2006-12-16 17:24:00            17.0  \n",
              "2006-12-16 17:25:00            16.0  \n",
              "2006-12-16 17:26:00            17.0  \n",
              "2006-12-16 17:27:00            17.0  \n",
              "2006-12-16 17:28:00            17.0  \n",
              "2006-12-16 17:29:00            17.0  \n",
              "2006-12-16 17:30:00            17.0  \n",
              "2006-12-16 17:31:00            17.0  \n",
              "2006-12-16 17:32:00            17.0  \n",
              "2006-12-16 17:33:00            16.0  "
            ],
            "text/html": [
              "\n",
              "  <div id=\"df-9b616c79-f792-431e-8e67-e4e8371241cc\">\n",
              "    <div class=\"colab-df-container\">\n",
              "      <div>\n",
              "<style scoped>\n",
              "    .dataframe tbody tr th:only-of-type {\n",
              "        vertical-align: middle;\n",
              "    }\n",
              "\n",
              "    .dataframe tbody tr th {\n",
              "        vertical-align: top;\n",
              "    }\n",
              "\n",
              "    .dataframe thead th {\n",
              "        text-align: right;\n",
              "    }\n",
              "</style>\n",
              "<table border=\"1\" class=\"dataframe\">\n",
              "  <thead>\n",
              "    <tr style=\"text-align: right;\">\n",
              "      <th></th>\n",
              "      <th>Global_active_power</th>\n",
              "      <th>Global_reactive_power</th>\n",
              "      <th>Voltage</th>\n",
              "      <th>Global_intensity</th>\n",
              "      <th>Sub_metering_1</th>\n",
              "      <th>Sub_metering_2</th>\n",
              "      <th>Sub_metering_3</th>\n",
              "    </tr>\n",
              "    <tr>\n",
              "      <th>datetime</th>\n",
              "      <th></th>\n",
              "      <th></th>\n",
              "      <th></th>\n",
              "      <th></th>\n",
              "      <th></th>\n",
              "      <th></th>\n",
              "      <th></th>\n",
              "    </tr>\n",
              "  </thead>\n",
              "  <tbody>\n",
              "    <tr>\n",
              "      <th>2006-12-16 17:24:00</th>\n",
              "      <td>4.216</td>\n",
              "      <td>0.418</td>\n",
              "      <td>234.84</td>\n",
              "      <td>18.4</td>\n",
              "      <td>0.0</td>\n",
              "      <td>1.0</td>\n",
              "      <td>17.0</td>\n",
              "    </tr>\n",
              "    <tr>\n",
              "      <th>2006-12-16 17:25:00</th>\n",
              "      <td>5.360</td>\n",
              "      <td>0.436</td>\n",
              "      <td>233.63</td>\n",
              "      <td>23.0</td>\n",
              "      <td>0.0</td>\n",
              "      <td>1.0</td>\n",
              "      <td>16.0</td>\n",
              "    </tr>\n",
              "    <tr>\n",
              "      <th>2006-12-16 17:26:00</th>\n",
              "      <td>5.374</td>\n",
              "      <td>0.498</td>\n",
              "      <td>233.29</td>\n",
              "      <td>23.0</td>\n",
              "      <td>0.0</td>\n",
              "      <td>2.0</td>\n",
              "      <td>17.0</td>\n",
              "    </tr>\n",
              "    <tr>\n",
              "      <th>2006-12-16 17:27:00</th>\n",
              "      <td>5.388</td>\n",
              "      <td>0.502</td>\n",
              "      <td>233.74</td>\n",
              "      <td>23.0</td>\n",
              "      <td>0.0</td>\n",
              "      <td>1.0</td>\n",
              "      <td>17.0</td>\n",
              "    </tr>\n",
              "    <tr>\n",
              "      <th>2006-12-16 17:28:00</th>\n",
              "      <td>3.666</td>\n",
              "      <td>0.528</td>\n",
              "      <td>235.68</td>\n",
              "      <td>15.8</td>\n",
              "      <td>0.0</td>\n",
              "      <td>1.0</td>\n",
              "      <td>17.0</td>\n",
              "    </tr>\n",
              "    <tr>\n",
              "      <th>2006-12-16 17:29:00</th>\n",
              "      <td>3.520</td>\n",
              "      <td>0.522</td>\n",
              "      <td>235.02</td>\n",
              "      <td>15.0</td>\n",
              "      <td>0.0</td>\n",
              "      <td>2.0</td>\n",
              "      <td>17.0</td>\n",
              "    </tr>\n",
              "    <tr>\n",
              "      <th>2006-12-16 17:30:00</th>\n",
              "      <td>3.702</td>\n",
              "      <td>0.520</td>\n",
              "      <td>235.09</td>\n",
              "      <td>15.8</td>\n",
              "      <td>0.0</td>\n",
              "      <td>1.0</td>\n",
              "      <td>17.0</td>\n",
              "    </tr>\n",
              "    <tr>\n",
              "      <th>2006-12-16 17:31:00</th>\n",
              "      <td>3.700</td>\n",
              "      <td>0.520</td>\n",
              "      <td>235.22</td>\n",
              "      <td>15.8</td>\n",
              "      <td>0.0</td>\n",
              "      <td>1.0</td>\n",
              "      <td>17.0</td>\n",
              "    </tr>\n",
              "    <tr>\n",
              "      <th>2006-12-16 17:32:00</th>\n",
              "      <td>3.668</td>\n",
              "      <td>0.510</td>\n",
              "      <td>233.99</td>\n",
              "      <td>15.8</td>\n",
              "      <td>0.0</td>\n",
              "      <td>1.0</td>\n",
              "      <td>17.0</td>\n",
              "    </tr>\n",
              "    <tr>\n",
              "      <th>2006-12-16 17:33:00</th>\n",
              "      <td>3.662</td>\n",
              "      <td>0.510</td>\n",
              "      <td>233.86</td>\n",
              "      <td>15.8</td>\n",
              "      <td>0.0</td>\n",
              "      <td>2.0</td>\n",
              "      <td>16.0</td>\n",
              "    </tr>\n",
              "  </tbody>\n",
              "</table>\n",
              "</div>\n",
              "      <button class=\"colab-df-convert\" onclick=\"convertToInteractive('df-9b616c79-f792-431e-8e67-e4e8371241cc')\"\n",
              "              title=\"Convert this dataframe to an interactive table.\"\n",
              "              style=\"display:none;\">\n",
              "        \n",
              "  <svg xmlns=\"http://www.w3.org/2000/svg\" height=\"24px\"viewBox=\"0 0 24 24\"\n",
              "       width=\"24px\">\n",
              "    <path d=\"M0 0h24v24H0V0z\" fill=\"none\"/>\n",
              "    <path d=\"M18.56 5.44l.94 2.06.94-2.06 2.06-.94-2.06-.94-.94-2.06-.94 2.06-2.06.94zm-11 1L8.5 8.5l.94-2.06 2.06-.94-2.06-.94L8.5 2.5l-.94 2.06-2.06.94zm10 10l.94 2.06.94-2.06 2.06-.94-2.06-.94-.94-2.06-.94 2.06-2.06.94z\"/><path d=\"M17.41 7.96l-1.37-1.37c-.4-.4-.92-.59-1.43-.59-.52 0-1.04.2-1.43.59L10.3 9.45l-7.72 7.72c-.78.78-.78 2.05 0 2.83L4 21.41c.39.39.9.59 1.41.59.51 0 1.02-.2 1.41-.59l7.78-7.78 2.81-2.81c.8-.78.8-2.07 0-2.86zM5.41 20L4 18.59l7.72-7.72 1.47 1.35L5.41 20z\"/>\n",
              "  </svg>\n",
              "      </button>\n",
              "      \n",
              "  <style>\n",
              "    .colab-df-container {\n",
              "      display:flex;\n",
              "      flex-wrap:wrap;\n",
              "      gap: 12px;\n",
              "    }\n",
              "\n",
              "    .colab-df-convert {\n",
              "      background-color: #E8F0FE;\n",
              "      border: none;\n",
              "      border-radius: 50%;\n",
              "      cursor: pointer;\n",
              "      display: none;\n",
              "      fill: #1967D2;\n",
              "      height: 32px;\n",
              "      padding: 0 0 0 0;\n",
              "      width: 32px;\n",
              "    }\n",
              "\n",
              "    .colab-df-convert:hover {\n",
              "      background-color: #E2EBFA;\n",
              "      box-shadow: 0px 1px 2px rgba(60, 64, 67, 0.3), 0px 1px 3px 1px rgba(60, 64, 67, 0.15);\n",
              "      fill: #174EA6;\n",
              "    }\n",
              "\n",
              "    [theme=dark] .colab-df-convert {\n",
              "      background-color: #3B4455;\n",
              "      fill: #D2E3FC;\n",
              "    }\n",
              "\n",
              "    [theme=dark] .colab-df-convert:hover {\n",
              "      background-color: #434B5C;\n",
              "      box-shadow: 0px 1px 3px 1px rgba(0, 0, 0, 0.15);\n",
              "      filter: drop-shadow(0px 1px 2px rgba(0, 0, 0, 0.3));\n",
              "      fill: #FFFFFF;\n",
              "    }\n",
              "  </style>\n",
              "\n",
              "      <script>\n",
              "        const buttonEl =\n",
              "          document.querySelector('#df-9b616c79-f792-431e-8e67-e4e8371241cc button.colab-df-convert');\n",
              "        buttonEl.style.display =\n",
              "          google.colab.kernel.accessAllowed ? 'block' : 'none';\n",
              "\n",
              "        async function convertToInteractive(key) {\n",
              "          const element = document.querySelector('#df-9b616c79-f792-431e-8e67-e4e8371241cc');\n",
              "          const dataTable =\n",
              "            await google.colab.kernel.invokeFunction('convertToInteractive',\n",
              "                                                     [key], {});\n",
              "          if (!dataTable) return;\n",
              "\n",
              "          const docLinkHtml = 'Like what you see? Visit the ' +\n",
              "            '<a target=\"_blank\" href=https://colab.research.google.com/notebooks/data_table.ipynb>data table notebook</a>'\n",
              "            + ' to learn more about interactive tables.';\n",
              "          element.innerHTML = '';\n",
              "          dataTable['output_type'] = 'display_data';\n",
              "          await google.colab.output.renderOutput(dataTable, element);\n",
              "          const docLink = document.createElement('div');\n",
              "          docLink.innerHTML = docLinkHtml;\n",
              "          element.appendChild(docLink);\n",
              "        }\n",
              "      </script>\n",
              "    </div>\n",
              "  </div>\n",
              "  "
            ]
          },
          "metadata": {},
          "execution_count": 6
        }
      ]
    },
    {
      "cell_type": "markdown",
      "source": [
        "# 데이터 정규화"
      ],
      "metadata": {
        "id": "_fIoy1zA1zmZ"
      }
    },
    {
      "cell_type": "code",
      "source": [
        "def normalize_series(data, min, max):\n",
        "    data = data - min\n",
        "    data = data / max\n",
        "    return data"
      ],
      "metadata": {
        "id": "vH_Cxgdo108L"
      },
      "execution_count": 7,
      "outputs": []
    },
    {
      "cell_type": "code",
      "source": [
        "# FEATURES에 데이터프레임의 Column 개수 대입\n",
        "N_FEATURES = len(df.columns)\n",
        "\n",
        "# 데이터프레임을 numpy array으로 가져와 data에 대입\n",
        "data = df.values\n",
        "\n",
        "# 데이터 정규화\n",
        "data = normalize_series(data, data.min(axis=0), data.max(axis=0))\n",
        "data"
      ],
      "metadata": {
        "colab": {
          "base_uri": "https://localhost:8080/"
        },
        "id": "g7JoF1zL12p5",
        "outputId": "6e4ee6f3-56ec-45cf-8da4-e7958f46c77a"
      },
      "execution_count": 8,
      "outputs": [
        {
          "output_type": "execute_result",
          "data": {
            "text/plain": [
              "array([[0.43377912, 0.47826087, 0.04036551, ..., 0.        , 0.01282051,\n",
              "        0.85      ],\n",
              "       [0.55716135, 0.49885584, 0.0355582 , ..., 0.        , 0.01282051,\n",
              "        0.8       ],\n",
              "       [0.55867127, 0.56979405, 0.03420739, ..., 0.        , 0.02564103,\n",
              "        0.85      ],\n",
              "       ...,\n",
              "       [0.03710095, 0.        , 0.05983313, ..., 0.        , 0.        ,\n",
              "        0.        ],\n",
              "       [0.03559103, 0.        , 0.06515693, ..., 0.        , 0.        ,\n",
              "        0.        ],\n",
              "       [0.03774806, 0.        , 0.06730234, ..., 0.        , 0.01282051,\n",
              "        0.        ]])"
            ]
          },
          "metadata": {},
          "execution_count": 8
        }
      ]
    },
    {
      "cell_type": "code",
      "source": [
        "pd.DataFrame(data).describe()"
      ],
      "metadata": {
        "colab": {
          "base_uri": "https://localhost:8080/",
          "height": 364
        },
        "id": "f0JfIGYo17dH",
        "outputId": "4ecd20e7-90a2-400f-d201-27a783799cbd"
      },
      "execution_count": 9,
      "outputs": [
        {
          "output_type": "execute_result",
          "data": {
            "text/plain": [
              "                  0             1             2             3             4  \\\n",
              "count  86400.000000  86400.000000  86400.000000  86400.000000  86400.000000   \n",
              "mean       0.156411      0.147141      0.064697      0.152278      0.016950   \n",
              "std        0.144040      0.134578      0.013900      0.139343      0.086787   \n",
              "min        0.000000      0.000000      0.000000      0.000000      0.000000   \n",
              "25%        0.021786      0.000000      0.055344      0.024752      0.000000   \n",
              "50%        0.131795      0.132723      0.065713      0.123762      0.000000   \n",
              "75%        0.239431      0.224256      0.074652      0.227723      0.000000   \n",
              "max        0.979077      1.000000      0.107350      0.980198      1.000000   \n",
              "\n",
              "                  5             6  \n",
              "count  86400.000000  86400.000000  \n",
              "mean       0.024085      0.375711  \n",
              "std        0.097022      0.433595  \n",
              "min        0.000000      0.000000  \n",
              "25%        0.000000      0.000000  \n",
              "50%        0.000000      0.000000  \n",
              "75%        0.012821      0.850000  \n",
              "max        1.000000      1.000000  "
            ],
            "text/html": [
              "\n",
              "  <div id=\"df-e76fd70c-cac3-4f6a-be24-35ddc4a0e489\">\n",
              "    <div class=\"colab-df-container\">\n",
              "      <div>\n",
              "<style scoped>\n",
              "    .dataframe tbody tr th:only-of-type {\n",
              "        vertical-align: middle;\n",
              "    }\n",
              "\n",
              "    .dataframe tbody tr th {\n",
              "        vertical-align: top;\n",
              "    }\n",
              "\n",
              "    .dataframe thead th {\n",
              "        text-align: right;\n",
              "    }\n",
              "</style>\n",
              "<table border=\"1\" class=\"dataframe\">\n",
              "  <thead>\n",
              "    <tr style=\"text-align: right;\">\n",
              "      <th></th>\n",
              "      <th>0</th>\n",
              "      <th>1</th>\n",
              "      <th>2</th>\n",
              "      <th>3</th>\n",
              "      <th>4</th>\n",
              "      <th>5</th>\n",
              "      <th>6</th>\n",
              "    </tr>\n",
              "  </thead>\n",
              "  <tbody>\n",
              "    <tr>\n",
              "      <th>count</th>\n",
              "      <td>86400.000000</td>\n",
              "      <td>86400.000000</td>\n",
              "      <td>86400.000000</td>\n",
              "      <td>86400.000000</td>\n",
              "      <td>86400.000000</td>\n",
              "      <td>86400.000000</td>\n",
              "      <td>86400.000000</td>\n",
              "    </tr>\n",
              "    <tr>\n",
              "      <th>mean</th>\n",
              "      <td>0.156411</td>\n",
              "      <td>0.147141</td>\n",
              "      <td>0.064697</td>\n",
              "      <td>0.152278</td>\n",
              "      <td>0.016950</td>\n",
              "      <td>0.024085</td>\n",
              "      <td>0.375711</td>\n",
              "    </tr>\n",
              "    <tr>\n",
              "      <th>std</th>\n",
              "      <td>0.144040</td>\n",
              "      <td>0.134578</td>\n",
              "      <td>0.013900</td>\n",
              "      <td>0.139343</td>\n",
              "      <td>0.086787</td>\n",
              "      <td>0.097022</td>\n",
              "      <td>0.433595</td>\n",
              "    </tr>\n",
              "    <tr>\n",
              "      <th>min</th>\n",
              "      <td>0.000000</td>\n",
              "      <td>0.000000</td>\n",
              "      <td>0.000000</td>\n",
              "      <td>0.000000</td>\n",
              "      <td>0.000000</td>\n",
              "      <td>0.000000</td>\n",
              "      <td>0.000000</td>\n",
              "    </tr>\n",
              "    <tr>\n",
              "      <th>25%</th>\n",
              "      <td>0.021786</td>\n",
              "      <td>0.000000</td>\n",
              "      <td>0.055344</td>\n",
              "      <td>0.024752</td>\n",
              "      <td>0.000000</td>\n",
              "      <td>0.000000</td>\n",
              "      <td>0.000000</td>\n",
              "    </tr>\n",
              "    <tr>\n",
              "      <th>50%</th>\n",
              "      <td>0.131795</td>\n",
              "      <td>0.132723</td>\n",
              "      <td>0.065713</td>\n",
              "      <td>0.123762</td>\n",
              "      <td>0.000000</td>\n",
              "      <td>0.000000</td>\n",
              "      <td>0.000000</td>\n",
              "    </tr>\n",
              "    <tr>\n",
              "      <th>75%</th>\n",
              "      <td>0.239431</td>\n",
              "      <td>0.224256</td>\n",
              "      <td>0.074652</td>\n",
              "      <td>0.227723</td>\n",
              "      <td>0.000000</td>\n",
              "      <td>0.012821</td>\n",
              "      <td>0.850000</td>\n",
              "    </tr>\n",
              "    <tr>\n",
              "      <th>max</th>\n",
              "      <td>0.979077</td>\n",
              "      <td>1.000000</td>\n",
              "      <td>0.107350</td>\n",
              "      <td>0.980198</td>\n",
              "      <td>1.000000</td>\n",
              "      <td>1.000000</td>\n",
              "      <td>1.000000</td>\n",
              "    </tr>\n",
              "  </tbody>\n",
              "</table>\n",
              "</div>\n",
              "      <button class=\"colab-df-convert\" onclick=\"convertToInteractive('df-e76fd70c-cac3-4f6a-be24-35ddc4a0e489')\"\n",
              "              title=\"Convert this dataframe to an interactive table.\"\n",
              "              style=\"display:none;\">\n",
              "        \n",
              "  <svg xmlns=\"http://www.w3.org/2000/svg\" height=\"24px\"viewBox=\"0 0 24 24\"\n",
              "       width=\"24px\">\n",
              "    <path d=\"M0 0h24v24H0V0z\" fill=\"none\"/>\n",
              "    <path d=\"M18.56 5.44l.94 2.06.94-2.06 2.06-.94-2.06-.94-.94-2.06-.94 2.06-2.06.94zm-11 1L8.5 8.5l.94-2.06 2.06-.94-2.06-.94L8.5 2.5l-.94 2.06-2.06.94zm10 10l.94 2.06.94-2.06 2.06-.94-2.06-.94-.94-2.06-.94 2.06-2.06.94z\"/><path d=\"M17.41 7.96l-1.37-1.37c-.4-.4-.92-.59-1.43-.59-.52 0-1.04.2-1.43.59L10.3 9.45l-7.72 7.72c-.78.78-.78 2.05 0 2.83L4 21.41c.39.39.9.59 1.41.59.51 0 1.02-.2 1.41-.59l7.78-7.78 2.81-2.81c.8-.78.8-2.07 0-2.86zM5.41 20L4 18.59l7.72-7.72 1.47 1.35L5.41 20z\"/>\n",
              "  </svg>\n",
              "      </button>\n",
              "      \n",
              "  <style>\n",
              "    .colab-df-container {\n",
              "      display:flex;\n",
              "      flex-wrap:wrap;\n",
              "      gap: 12px;\n",
              "    }\n",
              "\n",
              "    .colab-df-convert {\n",
              "      background-color: #E8F0FE;\n",
              "      border: none;\n",
              "      border-radius: 50%;\n",
              "      cursor: pointer;\n",
              "      display: none;\n",
              "      fill: #1967D2;\n",
              "      height: 32px;\n",
              "      padding: 0 0 0 0;\n",
              "      width: 32px;\n",
              "    }\n",
              "\n",
              "    .colab-df-convert:hover {\n",
              "      background-color: #E2EBFA;\n",
              "      box-shadow: 0px 1px 2px rgba(60, 64, 67, 0.3), 0px 1px 3px 1px rgba(60, 64, 67, 0.15);\n",
              "      fill: #174EA6;\n",
              "    }\n",
              "\n",
              "    [theme=dark] .colab-df-convert {\n",
              "      background-color: #3B4455;\n",
              "      fill: #D2E3FC;\n",
              "    }\n",
              "\n",
              "    [theme=dark] .colab-df-convert:hover {\n",
              "      background-color: #434B5C;\n",
              "      box-shadow: 0px 1px 3px 1px rgba(0, 0, 0, 0.15);\n",
              "      filter: drop-shadow(0px 1px 2px rgba(0, 0, 0, 0.3));\n",
              "      fill: #FFFFFF;\n",
              "    }\n",
              "  </style>\n",
              "\n",
              "      <script>\n",
              "        const buttonEl =\n",
              "          document.querySelector('#df-e76fd70c-cac3-4f6a-be24-35ddc4a0e489 button.colab-df-convert');\n",
              "        buttonEl.style.display =\n",
              "          google.colab.kernel.accessAllowed ? 'block' : 'none';\n",
              "\n",
              "        async function convertToInteractive(key) {\n",
              "          const element = document.querySelector('#df-e76fd70c-cac3-4f6a-be24-35ddc4a0e489');\n",
              "          const dataTable =\n",
              "            await google.colab.kernel.invokeFunction('convertToInteractive',\n",
              "                                                     [key], {});\n",
              "          if (!dataTable) return;\n",
              "\n",
              "          const docLinkHtml = 'Like what you see? Visit the ' +\n",
              "            '<a target=\"_blank\" href=https://colab.research.google.com/notebooks/data_table.ipynb>data table notebook</a>'\n",
              "            + ' to learn more about interactive tables.';\n",
              "          element.innerHTML = '';\n",
              "          dataTable['output_type'] = 'display_data';\n",
              "          await google.colab.output.renderOutput(dataTable, element);\n",
              "          const docLink = document.createElement('div');\n",
              "          docLink.innerHTML = docLinkHtml;\n",
              "          element.appendChild(docLink);\n",
              "        }\n",
              "      </script>\n",
              "    </div>\n",
              "  </div>\n",
              "  "
            ]
          },
          "metadata": {},
          "execution_count": 9
        }
      ]
    },
    {
      "cell_type": "markdown",
      "source": [
        "# 데이터 분할"
      ],
      "metadata": {
        "id": "tChGPxVy18wg"
      }
    },
    {
      "cell_type": "code",
      "source": [
        "# 데이터셋 분할 (0.8). \n",
        "# 기존 0.5 -> 0.8로 변경 // 다른 비율로 변경 가능\n",
        "split_time = int(len(data) * 0.8)"
      ],
      "metadata": {
        "id": "af7W_519191g"
      },
      "execution_count": 10,
      "outputs": []
    },
    {
      "cell_type": "code",
      "source": [
        "x_train = data[:split_time]\n",
        "x_valid = data[split_time:]"
      ],
      "metadata": {
        "id": "xdDsGoyN2AXq"
      },
      "execution_count": 11,
      "outputs": []
    },
    {
      "cell_type": "markdown",
      "source": [
        "# Windowed Dataset 생성"
      ],
      "metadata": {
        "id": "1MPsv2sw2DJC"
      }
    },
    {
      "cell_type": "code",
      "source": [
        "def windowed_dataset(series, batch_size, n_past=24, n_future=24, shift=1):\n",
        "    ds = tf.data.Dataset.from_tensor_slices(series)\n",
        "    ds = ds.window(size=(n_past + n_future), shift = shift, drop_remainder = True)\n",
        "    ds = ds.flat_map(lambda w: w.batch(n_past + n_future))\n",
        "    ds = ds.shuffle(len(series))\n",
        "    ds = ds.map(\n",
        "        lambda w: (w[:n_past], w[n_past:])\n",
        "    )\n",
        "    return ds.batch(batch_size).prefetch(1)"
      ],
      "metadata": {
        "id": "84csQALn2GN6"
      },
      "execution_count": 12,
      "outputs": []
    },
    {
      "cell_type": "code",
      "source": [
        "# 다음 4개의 옵션은 주어짐\n",
        "BATCH_SIZE = 32 # 변경 가능\n",
        "N_PAST = 24 # 변경 불가.\n",
        "N_FUTURE = 24 # 변경 불가.\n",
        "SHIFT = 1 # 변경 불가."
      ],
      "metadata": {
        "id": "j8lnWTRD2JOM"
      },
      "execution_count": 13,
      "outputs": []
    },
    {
      "cell_type": "code",
      "source": [
        "train_set = windowed_dataset(series=x_train, \n",
        "                             batch_size=BATCH_SIZE,\n",
        "                             n_past=N_PAST, \n",
        "                             n_future=N_FUTURE,\n",
        "                             shift=SHIFT)\n",
        "\n",
        "valid_set = windowed_dataset(series=x_valid, \n",
        "                             batch_size=BATCH_SIZE,\n",
        "                             n_past=N_PAST, \n",
        "                             n_future=N_FUTURE,\n",
        "                             shift=SHIFT)"
      ],
      "metadata": {
        "id": "SwAwJTwh2Okq"
      },
      "execution_count": 14,
      "outputs": []
    },
    {
      "cell_type": "markdown",
      "source": [
        "# 모델 생성"
      ],
      "metadata": {
        "id": "7nUnUG5J2QDW"
      }
    },
    {
      "cell_type": "code",
      "source": [
        "model = tf.keras.models.Sequential([\n",
        "    Conv1D(filters=32, \n",
        "            kernel_size=3,\n",
        "            padding=\"causal\",\n",
        "            activation=\"relu\",\n",
        "            input_shape=[N_PAST, 7],\n",
        "            ),\n",
        "    Bidirectional(LSTM(32, return_sequences=True)),\n",
        "    Dense(32, activation=\"relu\"),\n",
        "    Dense(16, activation=\"relu\"),\n",
        "    Dense(N_FEATURES)\n",
        "])"
      ],
      "metadata": {
        "id": "b9gQbbF12Sbb"
      },
      "execution_count": 15,
      "outputs": []
    },
    {
      "cell_type": "markdown",
      "source": [
        "# Checkpoint"
      ],
      "metadata": {
        "id": "MEeV2fNk2UJo"
      }
    },
    {
      "cell_type": "code",
      "source": [
        "checkpoint_path='model/my_checkpoint.ckpt'\n",
        "\n",
        "checkpoint = ModelCheckpoint(checkpoint_path,\n",
        "                             save_weights_only=True,\n",
        "                             save_best_only=True,\n",
        "                             monitor='val_loss',\n",
        "                             verbose=1,\n",
        "                             )"
      ],
      "metadata": {
        "id": "PMBf8HpL2Xl8"
      },
      "execution_count": 16,
      "outputs": []
    },
    {
      "cell_type": "markdown",
      "source": [
        "# Model Compile"
      ],
      "metadata": {
        "id": "lk4GeAmX2Zlz"
      }
    },
    {
      "cell_type": "code",
      "source": [
        "# learning_rate=0.0005, Adam 옵치마이저\n",
        "optimizer =  tf.keras.optimizers.Adam(learning_rate=0.0005)\n",
        "\n",
        "model.compile(loss='mae',\n",
        "              optimizer=optimizer,\n",
        "              metrics=[\"mae\"]\n",
        "              )"
      ],
      "metadata": {
        "id": "NhQH1I972b-r"
      },
      "execution_count": 17,
      "outputs": []
    },
    {
      "cell_type": "markdown",
      "source": [
        "# Fit"
      ],
      "metadata": {
        "id": "QEh225GP2eJR"
      }
    },
    {
      "cell_type": "code",
      "source": [
        "model.fit(train_set, \n",
        "        validation_data=(valid_set), \n",
        "        epochs=20, \n",
        "        callbacks=[checkpoint], \n",
        "        )"
      ],
      "metadata": {
        "colab": {
          "base_uri": "https://localhost:8080/"
        },
        "id": "e1MBFjDO2fOS",
        "outputId": "e1153f6f-4e3b-4670-cf52-9d486ec2b639"
      },
      "execution_count": 18,
      "outputs": [
        {
          "output_type": "stream",
          "name": "stdout",
          "text": [
            "Epoch 1/20\n",
            "   2159/Unknown - 59s 21ms/step - loss: 0.0507 - mae: 0.0507\n",
            "Epoch 1: val_loss improved from inf to 0.04422, saving model to model/my_checkpoint.ckpt\n",
            "2159/2159 [==============================] - 71s 26ms/step - loss: 0.0507 - mae: 0.0507 - val_loss: 0.0442 - val_mae: 0.0442\n",
            "Epoch 2/20\n",
            "2157/2159 [============================>.] - ETA: 0s - loss: 0.0437 - mae: 0.0437\n",
            "Epoch 2: val_loss improved from 0.04422 to 0.04351, saving model to model/my_checkpoint.ckpt\n",
            "2159/2159 [==============================] - 61s 24ms/step - loss: 0.0437 - mae: 0.0437 - val_loss: 0.0435 - val_mae: 0.0435\n",
            "Epoch 3/20\n",
            "2157/2159 [============================>.] - ETA: 0s - loss: 0.0423 - mae: 0.0423\n",
            "Epoch 3: val_loss improved from 0.04351 to 0.04152, saving model to model/my_checkpoint.ckpt\n",
            "2159/2159 [==============================] - 61s 24ms/step - loss: 0.0423 - mae: 0.0423 - val_loss: 0.0415 - val_mae: 0.0415\n",
            "Epoch 4/20\n",
            "2159/2159 [==============================] - ETA: 0s - loss: 0.0414 - mae: 0.0414\n",
            "Epoch 4: val_loss improved from 0.04152 to 0.04073, saving model to model/my_checkpoint.ckpt\n",
            "2159/2159 [==============================] - 61s 24ms/step - loss: 0.0414 - mae: 0.0414 - val_loss: 0.0407 - val_mae: 0.0407\n",
            "Epoch 5/20\n",
            "2157/2159 [============================>.] - ETA: 0s - loss: 0.0406 - mae: 0.0406\n",
            "Epoch 5: val_loss improved from 0.04073 to 0.04018, saving model to model/my_checkpoint.ckpt\n",
            "2159/2159 [==============================] - 61s 24ms/step - loss: 0.0406 - mae: 0.0406 - val_loss: 0.0402 - val_mae: 0.0402\n",
            "Epoch 6/20\n",
            "2157/2159 [============================>.] - ETA: 0s - loss: 0.0400 - mae: 0.0400\n",
            "Epoch 6: val_loss improved from 0.04018 to 0.03959, saving model to model/my_checkpoint.ckpt\n",
            "2159/2159 [==============================] - 61s 24ms/step - loss: 0.0400 - mae: 0.0400 - val_loss: 0.0396 - val_mae: 0.0396\n",
            "Epoch 7/20\n",
            "2158/2159 [============================>.] - ETA: 0s - loss: 0.0397 - mae: 0.0397\n",
            "Epoch 7: val_loss did not improve from 0.03959\n",
            "2159/2159 [==============================] - 61s 24ms/step - loss: 0.0397 - mae: 0.0397 - val_loss: 0.0397 - val_mae: 0.0397\n",
            "Epoch 8/20\n",
            "2157/2159 [============================>.] - ETA: 0s - loss: 0.0393 - mae: 0.0393\n",
            "Epoch 8: val_loss did not improve from 0.03959\n",
            "2159/2159 [==============================] - 61s 24ms/step - loss: 0.0393 - mae: 0.0393 - val_loss: 0.0404 - val_mae: 0.0404\n",
            "Epoch 9/20\n",
            "2158/2159 [============================>.] - ETA: 0s - loss: 0.0391 - mae: 0.0391\n",
            "Epoch 9: val_loss improved from 0.03959 to 0.03905, saving model to model/my_checkpoint.ckpt\n",
            "2159/2159 [==============================] - 61s 24ms/step - loss: 0.0391 - mae: 0.0391 - val_loss: 0.0391 - val_mae: 0.0391\n",
            "Epoch 10/20\n",
            "2158/2159 [============================>.] - ETA: 0s - loss: 0.0388 - mae: 0.0388\n",
            "Epoch 10: val_loss did not improve from 0.03905\n",
            "2159/2159 [==============================] - 61s 24ms/step - loss: 0.0388 - mae: 0.0388 - val_loss: 0.0391 - val_mae: 0.0391\n",
            "Epoch 11/20\n",
            "2159/2159 [==============================] - ETA: 0s - loss: 0.0387 - mae: 0.0387\n",
            "Epoch 11: val_loss improved from 0.03905 to 0.03876, saving model to model/my_checkpoint.ckpt\n",
            "2159/2159 [==============================] - 61s 24ms/step - loss: 0.0387 - mae: 0.0387 - val_loss: 0.0388 - val_mae: 0.0388\n",
            "Epoch 12/20\n",
            "2158/2159 [============================>.] - ETA: 0s - loss: 0.0385 - mae: 0.0385\n",
            "Epoch 12: val_loss improved from 0.03876 to 0.03856, saving model to model/my_checkpoint.ckpt\n",
            "2159/2159 [==============================] - 61s 24ms/step - loss: 0.0385 - mae: 0.0385 - val_loss: 0.0386 - val_mae: 0.0386\n",
            "Epoch 13/20\n",
            "2157/2159 [============================>.] - ETA: 0s - loss: 0.0384 - mae: 0.0384\n",
            "Epoch 13: val_loss improved from 0.03856 to 0.03851, saving model to model/my_checkpoint.ckpt\n",
            "2159/2159 [==============================] - 62s 24ms/step - loss: 0.0384 - mae: 0.0384 - val_loss: 0.0385 - val_mae: 0.0385\n",
            "Epoch 14/20\n",
            "2158/2159 [============================>.] - ETA: 0s - loss: 0.0382 - mae: 0.0382\n",
            "Epoch 14: val_loss improved from 0.03851 to 0.03815, saving model to model/my_checkpoint.ckpt\n",
            "2159/2159 [==============================] - 62s 24ms/step - loss: 0.0382 - mae: 0.0382 - val_loss: 0.0381 - val_mae: 0.0381\n",
            "Epoch 15/20\n",
            "2158/2159 [============================>.] - ETA: 0s - loss: 0.0381 - mae: 0.0381\n",
            "Epoch 15: val_loss improved from 0.03815 to 0.03802, saving model to model/my_checkpoint.ckpt\n",
            "2159/2159 [==============================] - 61s 24ms/step - loss: 0.0381 - mae: 0.0381 - val_loss: 0.0380 - val_mae: 0.0380\n",
            "Epoch 16/20\n",
            "2158/2159 [============================>.] - ETA: 0s - loss: 0.0379 - mae: 0.0379\n",
            "Epoch 16: val_loss did not improve from 0.03802\n",
            "2159/2159 [==============================] - 61s 24ms/step - loss: 0.0379 - mae: 0.0379 - val_loss: 0.0384 - val_mae: 0.0384\n",
            "Epoch 17/20\n",
            "2159/2159 [==============================] - ETA: 0s - loss: 0.0379 - mae: 0.0379\n",
            "Epoch 17: val_loss improved from 0.03802 to 0.03781, saving model to model/my_checkpoint.ckpt\n",
            "2159/2159 [==============================] - 61s 24ms/step - loss: 0.0379 - mae: 0.0379 - val_loss: 0.0378 - val_mae: 0.0378\n",
            "Epoch 18/20\n",
            "2159/2159 [==============================] - ETA: 0s - loss: 0.0378 - mae: 0.0378\n",
            "Epoch 18: val_loss did not improve from 0.03781\n",
            "2159/2159 [==============================] - 62s 24ms/step - loss: 0.0378 - mae: 0.0378 - val_loss: 0.0379 - val_mae: 0.0379\n",
            "Epoch 19/20\n",
            "2157/2159 [============================>.] - ETA: 0s - loss: 0.0376 - mae: 0.0376\n",
            "Epoch 19: val_loss did not improve from 0.03781\n",
            "2159/2159 [==============================] - 61s 24ms/step - loss: 0.0376 - mae: 0.0376 - val_loss: 0.0380 - val_mae: 0.0380\n",
            "Epoch 20/20\n",
            "2159/2159 [==============================] - ETA: 0s - loss: 0.0375 - mae: 0.0375\n",
            "Epoch 20: val_loss did not improve from 0.03781\n",
            "2159/2159 [==============================] - 60s 24ms/step - loss: 0.0375 - mae: 0.0375 - val_loss: 0.0379 - val_mae: 0.0379\n"
          ]
        },
        {
          "output_type": "execute_result",
          "data": {
            "text/plain": [
              "<keras.callbacks.History at 0x7f63d2997650>"
            ]
          },
          "metadata": {},
          "execution_count": 18
        }
      ]
    },
    {
      "cell_type": "code",
      "source": [
        "model.load_weights(checkpoint_path)"
      ],
      "metadata": {
        "colab": {
          "base_uri": "https://localhost:8080/"
        },
        "id": "0OTC02CA7Poa",
        "outputId": "0b0c1165-f024-46d5-82c6-90f26a02dc4a"
      },
      "execution_count": 19,
      "outputs": [
        {
          "output_type": "execute_result",
          "data": {
            "text/plain": [
              "<tensorflow.python.training.tracking.util.CheckpointLoadStatus at 0x7f63d0024190>"
            ]
          },
          "metadata": {},
          "execution_count": 19
        }
      ]
    },
    {
      "cell_type": "markdown",
      "source": [
        "# 모델 검증"
      ],
      "metadata": {
        "id": "cy62MJPr7Qdn"
      }
    },
    {
      "cell_type": "code",
      "source": [
        "model.evaluate(valid_set)"
      ],
      "metadata": {
        "colab": {
          "base_uri": "https://localhost:8080/"
        },
        "id": "9eynwVLv7S5q",
        "outputId": "2031e039-c32d-4123-88a5-d6dfad2de195"
      },
      "execution_count": 20,
      "outputs": [
        {
          "output_type": "stream",
          "name": "stdout",
          "text": [
            "539/539 [==============================] - 13s 15ms/step - loss: 0.0378 - mae: 0.0378\n"
          ]
        },
        {
          "output_type": "execute_result",
          "data": {
            "text/plain": [
              "[0.037809886038303375, 0.03780988231301308]"
            ]
          },
          "metadata": {},
          "execution_count": 20
        }
      ]
    }
  ]
}