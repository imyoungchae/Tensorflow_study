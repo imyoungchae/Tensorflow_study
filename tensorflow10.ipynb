{
  "nbformat": 4,
  "nbformat_minor": 0,
  "metadata": {
    "colab": {
      "name": "tensorflow10.ipynb",
      "provenance": [],
      "authorship_tag": "ABX9TyO7pIeqMBFAAcC22Xvt1uGF",
      "include_colab_link": true
    },
    "kernelspec": {
      "name": "python3",
      "display_name": "Python 3"
    },
    "language_info": {
      "name": "python"
    }
  },
  "cells": [
    {
      "cell_type": "markdown",
      "metadata": {
        "id": "view-in-github",
        "colab_type": "text"
      },
      "source": [
        "<a href=\"https://colab.research.google.com/github/imyoungchae/Tensorflow_study/blob/main/tensorflow10.ipynb\" target=\"_parent\"><img src=\"https://colab.research.google.com/assets/colab-badge.svg\" alt=\"Open In Colab\"/></a>"
      ]
    },
    {
      "cell_type": "markdown",
      "source": [
        "# Sequence 데이터 다루기"
      ],
      "metadata": {
        "id": "7MhrvaSLLaKI"
      }
    },
    {
      "cell_type": "markdown",
      "source": [
        "# Import"
      ],
      "metadata": {
        "id": "TXs__S81Libe"
      }
    },
    {
      "cell_type": "code",
      "execution_count": 1,
      "metadata": {
        "colab": {
          "base_uri": "https://localhost:8080/"
        },
        "id": "c6CMxWHkLYjT",
        "outputId": "5943e5be-3b5f-4797-c72a-d1cffaede632"
      },
      "outputs": [
        {
          "output_type": "execute_result",
          "data": {
            "text/plain": [
              "('Weekly_U.S.Diesel_Retail_Prices.csv',\n",
              " <http.client.HTTPMessage at 0x7facf0407fd0>)"
            ]
          },
          "metadata": {},
          "execution_count": 1
        }
      ],
      "source": [
        "import urllib\n",
        "import pandas as pd\n",
        "import tensorflow as tf\n",
        "from tensorflow.keras.layers import Dense, Conv1D, LSTM, Bidirectional\n",
        "from tensorflow.keras.models import Sequential\n",
        "from tensorflow.keras.callbacks import ModelCheckpoint\n",
        "\n",
        "# 아래 2줄 코드는 넣지 말아 주세요!!!\n",
        "url = 'https://www.dropbox.com/s/eduk281didil1km/Weekly_U.S.Diesel_Retail_Prices.csv?dl=1'\n",
        "urllib.request.urlretrieve(url, 'Weekly_U.S.Diesel_Retail_Prices.csv')"
      ]
    },
    {
      "cell_type": "markdown",
      "source": [
        "#Normalization"
      ],
      "metadata": {
        "id": "gCuJoN-aLrAd"
      }
    },
    {
      "cell_type": "code",
      "source": [
        "def normalize_series(data, min, max):\n",
        "    data = data - min\n",
        "    data = data / max\n",
        "    return data"
      ],
      "metadata": {
        "id": "cBhtNhL1LpNo"
      },
      "execution_count": 3,
      "outputs": []
    },
    {
      "cell_type": "markdown",
      "source": [
        "# Windowed Dataset"
      ],
      "metadata": {
        "id": "zkIx5Ng0Ltdj"
      }
    },
    {
      "cell_type": "code",
      "source": [
        "def windowed_dataset(series, batch_size, n_past=10, n_future=10, shift=1):\n",
        "    ds = tf.data.Dataset.from_tensor_slices(series)\n",
        "    ds = ds.window(size=n_past + n_future, shift=shift, drop_remainder=True)\n",
        "    ds = ds.flat_map(lambda w: w.batch(n_past + n_future))\n",
        "    ds = ds.map(lambda w: (w[:n_past], w[n_past:]))\n",
        "    return ds.batch(batch_size).prefetch(1)"
      ],
      "metadata": {
        "id": "-zIIJFiALwF4"
      },
      "execution_count": 4,
      "outputs": []
    },
    {
      "cell_type": "markdown",
      "source": [
        "# Dataset Load"
      ],
      "metadata": {
        "id": "3rmiJUPhL0cX"
      }
    },
    {
      "cell_type": "code",
      "source": [
        "df = pd.read_csv('Weekly_U.S.Diesel_Retail_Prices.csv', infer_datetime_format=True, index_col='Week of', header=0)\n",
        "df.head(20)"
      ],
      "metadata": {
        "colab": {
          "base_uri": "https://localhost:8080/",
          "height": 708
        },
        "id": "4FMWJMJLL2Wz",
        "outputId": "3ecc1355-f982-400a-e7ae-310e0f916ee6"
      },
      "execution_count": 5,
      "outputs": [
        {
          "output_type": "execute_result",
          "data": {
            "text/plain": [
              "            Weekly U.S. No 2 Diesel Retail Prices Dollars per Gallon\n",
              "Week of                                                             \n",
              "1994-03-21                                              1.106       \n",
              "1994-03-28                                              1.107       \n",
              "1994-04-04                                              1.109       \n",
              "1994-04-11                                              1.108       \n",
              "1994-04-18                                              1.105       \n",
              "1994-04-25                                              1.106       \n",
              "1994-05-02                                              1.104       \n",
              "1994-05-09                                              1.101       \n",
              "1994-05-16                                              1.099       \n",
              "1994-05-23                                              1.099       \n",
              "1994-05-30                                              1.098       \n",
              "1994-06-06                                              1.101       \n",
              "1994-06-13                                              1.098       \n",
              "1994-06-20                                              1.103       \n",
              "1994-06-27                                              1.108       \n",
              "1994-07-04                                              1.109       \n",
              "1994-07-11                                              1.110       \n",
              "1994-07-18                                              1.111       \n",
              "1994-07-25                                              1.111       \n",
              "1994-08-01                                              1.116       "
            ],
            "text/html": [
              "\n",
              "  <div id=\"df-73336ed8-fa00-488e-89ef-fcabe1e831cd\">\n",
              "    <div class=\"colab-df-container\">\n",
              "      <div>\n",
              "<style scoped>\n",
              "    .dataframe tbody tr th:only-of-type {\n",
              "        vertical-align: middle;\n",
              "    }\n",
              "\n",
              "    .dataframe tbody tr th {\n",
              "        vertical-align: top;\n",
              "    }\n",
              "\n",
              "    .dataframe thead th {\n",
              "        text-align: right;\n",
              "    }\n",
              "</style>\n",
              "<table border=\"1\" class=\"dataframe\">\n",
              "  <thead>\n",
              "    <tr style=\"text-align: right;\">\n",
              "      <th></th>\n",
              "      <th>Weekly U.S. No 2 Diesel Retail Prices Dollars per Gallon</th>\n",
              "    </tr>\n",
              "    <tr>\n",
              "      <th>Week of</th>\n",
              "      <th></th>\n",
              "    </tr>\n",
              "  </thead>\n",
              "  <tbody>\n",
              "    <tr>\n",
              "      <th>1994-03-21</th>\n",
              "      <td>1.106</td>\n",
              "    </tr>\n",
              "    <tr>\n",
              "      <th>1994-03-28</th>\n",
              "      <td>1.107</td>\n",
              "    </tr>\n",
              "    <tr>\n",
              "      <th>1994-04-04</th>\n",
              "      <td>1.109</td>\n",
              "    </tr>\n",
              "    <tr>\n",
              "      <th>1994-04-11</th>\n",
              "      <td>1.108</td>\n",
              "    </tr>\n",
              "    <tr>\n",
              "      <th>1994-04-18</th>\n",
              "      <td>1.105</td>\n",
              "    </tr>\n",
              "    <tr>\n",
              "      <th>1994-04-25</th>\n",
              "      <td>1.106</td>\n",
              "    </tr>\n",
              "    <tr>\n",
              "      <th>1994-05-02</th>\n",
              "      <td>1.104</td>\n",
              "    </tr>\n",
              "    <tr>\n",
              "      <th>1994-05-09</th>\n",
              "      <td>1.101</td>\n",
              "    </tr>\n",
              "    <tr>\n",
              "      <th>1994-05-16</th>\n",
              "      <td>1.099</td>\n",
              "    </tr>\n",
              "    <tr>\n",
              "      <th>1994-05-23</th>\n",
              "      <td>1.099</td>\n",
              "    </tr>\n",
              "    <tr>\n",
              "      <th>1994-05-30</th>\n",
              "      <td>1.098</td>\n",
              "    </tr>\n",
              "    <tr>\n",
              "      <th>1994-06-06</th>\n",
              "      <td>1.101</td>\n",
              "    </tr>\n",
              "    <tr>\n",
              "      <th>1994-06-13</th>\n",
              "      <td>1.098</td>\n",
              "    </tr>\n",
              "    <tr>\n",
              "      <th>1994-06-20</th>\n",
              "      <td>1.103</td>\n",
              "    </tr>\n",
              "    <tr>\n",
              "      <th>1994-06-27</th>\n",
              "      <td>1.108</td>\n",
              "    </tr>\n",
              "    <tr>\n",
              "      <th>1994-07-04</th>\n",
              "      <td>1.109</td>\n",
              "    </tr>\n",
              "    <tr>\n",
              "      <th>1994-07-11</th>\n",
              "      <td>1.110</td>\n",
              "    </tr>\n",
              "    <tr>\n",
              "      <th>1994-07-18</th>\n",
              "      <td>1.111</td>\n",
              "    </tr>\n",
              "    <tr>\n",
              "      <th>1994-07-25</th>\n",
              "      <td>1.111</td>\n",
              "    </tr>\n",
              "    <tr>\n",
              "      <th>1994-08-01</th>\n",
              "      <td>1.116</td>\n",
              "    </tr>\n",
              "  </tbody>\n",
              "</table>\n",
              "</div>\n",
              "      <button class=\"colab-df-convert\" onclick=\"convertToInteractive('df-73336ed8-fa00-488e-89ef-fcabe1e831cd')\"\n",
              "              title=\"Convert this dataframe to an interactive table.\"\n",
              "              style=\"display:none;\">\n",
              "        \n",
              "  <svg xmlns=\"http://www.w3.org/2000/svg\" height=\"24px\"viewBox=\"0 0 24 24\"\n",
              "       width=\"24px\">\n",
              "    <path d=\"M0 0h24v24H0V0z\" fill=\"none\"/>\n",
              "    <path d=\"M18.56 5.44l.94 2.06.94-2.06 2.06-.94-2.06-.94-.94-2.06-.94 2.06-2.06.94zm-11 1L8.5 8.5l.94-2.06 2.06-.94-2.06-.94L8.5 2.5l-.94 2.06-2.06.94zm10 10l.94 2.06.94-2.06 2.06-.94-2.06-.94-.94-2.06-.94 2.06-2.06.94z\"/><path d=\"M17.41 7.96l-1.37-1.37c-.4-.4-.92-.59-1.43-.59-.52 0-1.04.2-1.43.59L10.3 9.45l-7.72 7.72c-.78.78-.78 2.05 0 2.83L4 21.41c.39.39.9.59 1.41.59.51 0 1.02-.2 1.41-.59l7.78-7.78 2.81-2.81c.8-.78.8-2.07 0-2.86zM5.41 20L4 18.59l7.72-7.72 1.47 1.35L5.41 20z\"/>\n",
              "  </svg>\n",
              "      </button>\n",
              "      \n",
              "  <style>\n",
              "    .colab-df-container {\n",
              "      display:flex;\n",
              "      flex-wrap:wrap;\n",
              "      gap: 12px;\n",
              "    }\n",
              "\n",
              "    .colab-df-convert {\n",
              "      background-color: #E8F0FE;\n",
              "      border: none;\n",
              "      border-radius: 50%;\n",
              "      cursor: pointer;\n",
              "      display: none;\n",
              "      fill: #1967D2;\n",
              "      height: 32px;\n",
              "      padding: 0 0 0 0;\n",
              "      width: 32px;\n",
              "    }\n",
              "\n",
              "    .colab-df-convert:hover {\n",
              "      background-color: #E2EBFA;\n",
              "      box-shadow: 0px 1px 2px rgba(60, 64, 67, 0.3), 0px 1px 3px 1px rgba(60, 64, 67, 0.15);\n",
              "      fill: #174EA6;\n",
              "    }\n",
              "\n",
              "    [theme=dark] .colab-df-convert {\n",
              "      background-color: #3B4455;\n",
              "      fill: #D2E3FC;\n",
              "    }\n",
              "\n",
              "    [theme=dark] .colab-df-convert:hover {\n",
              "      background-color: #434B5C;\n",
              "      box-shadow: 0px 1px 3px 1px rgba(0, 0, 0, 0.15);\n",
              "      filter: drop-shadow(0px 1px 2px rgba(0, 0, 0, 0.3));\n",
              "      fill: #FFFFFF;\n",
              "    }\n",
              "  </style>\n",
              "\n",
              "      <script>\n",
              "        const buttonEl =\n",
              "          document.querySelector('#df-73336ed8-fa00-488e-89ef-fcabe1e831cd button.colab-df-convert');\n",
              "        buttonEl.style.display =\n",
              "          google.colab.kernel.accessAllowed ? 'block' : 'none';\n",
              "\n",
              "        async function convertToInteractive(key) {\n",
              "          const element = document.querySelector('#df-73336ed8-fa00-488e-89ef-fcabe1e831cd');\n",
              "          const dataTable =\n",
              "            await google.colab.kernel.invokeFunction('convertToInteractive',\n",
              "                                                     [key], {});\n",
              "          if (!dataTable) return;\n",
              "\n",
              "          const docLinkHtml = 'Like what you see? Visit the ' +\n",
              "            '<a target=\"_blank\" href=https://colab.research.google.com/notebooks/data_table.ipynb>data table notebook</a>'\n",
              "            + ' to learn more about interactive tables.';\n",
              "          element.innerHTML = '';\n",
              "          dataTable['output_type'] = 'display_data';\n",
              "          await google.colab.output.renderOutput(dataTable, element);\n",
              "          const docLink = document.createElement('div');\n",
              "          docLink.innerHTML = docLinkHtml;\n",
              "          element.appendChild(docLink);\n",
              "        }\n",
              "      </script>\n",
              "    </div>\n",
              "  </div>\n",
              "  "
            ]
          },
          "metadata": {},
          "execution_count": 5
        }
      ]
    },
    {
      "cell_type": "code",
      "source": [
        "# 특성 정의\n",
        "N_FEATURES = len(df.columns)\n",
        "N_FEATURES"
      ],
      "metadata": {
        "colab": {
          "base_uri": "https://localhost:8080/"
        },
        "id": "sBGXRLYYL4b-",
        "outputId": "8133d839-ac52-47b1-8db5-ecb27327d6e0"
      },
      "execution_count": 6,
      "outputs": [
        {
          "output_type": "execute_result",
          "data": {
            "text/plain": [
              "1"
            ]
          },
          "metadata": {},
          "execution_count": 6
        }
      ]
    },
    {
      "cell_type": "markdown",
      "source": [
        "# 정규화 및 데이터 분할"
      ],
      "metadata": {
        "id": "IOeacOWWL6gG"
      }
    },
    {
      "cell_type": "code",
      "source": [
        "# 정규화 코드\n",
        "data = df.values\n",
        "data = normalize_series(data, data.min(axis=0), data.max(axis=0))\n",
        "\n",
        "# 데이터 분할\n",
        "SPLIT_TIME = int(len(data) * 0.8) # DO NOT CHANGE THIS\n",
        "x_train = data[:SPLIT_TIME]\n",
        "x_valid = data[SPLIT_TIME:]"
      ],
      "metadata": {
        "id": "YEwOnKYOL8rU"
      },
      "execution_count": 7,
      "outputs": []
    },
    {
      "cell_type": "code",
      "source": [
        "BATCH_SIZE = 32  # 배치사이즈\n",
        "N_PAST = 10      # 과거 데이터 (X)\n",
        "N_FUTURE = 10    # 미래 데이터 (Y)\n",
        "SHIFT = 1        # SHIFT"
      ],
      "metadata": {
        "id": "sz7ONdQrL-Wh"
      },
      "execution_count": 8,
      "outputs": []
    },
    {
      "cell_type": "markdown",
      "source": [
        "# Train/Validation Set"
      ],
      "metadata": {
        "id": "zFuIQxyaL_yA"
      }
    },
    {
      "cell_type": "code",
      "source": [
        "train_set = windowed_dataset(series=x_train, batch_size=BATCH_SIZE,\n",
        "                             n_past=N_PAST, n_future=N_FUTURE,\n",
        "                             shift=SHIFT)\n",
        "\n",
        "valid_set = windowed_dataset(series=x_valid, batch_size=BATCH_SIZE,\n",
        "                             n_past=N_PAST, n_future=N_FUTURE,\n",
        "                             shift=SHIFT)"
      ],
      "metadata": {
        "id": "KHutdXt7MDqE"
      },
      "execution_count": 9,
      "outputs": []
    },
    {
      "cell_type": "markdown",
      "source": [
        "# 모델 구성"
      ],
      "metadata": {
        "id": "-cOHRrbdMFrp"
      }
    },
    {
      "cell_type": "code",
      "source": [
        "model = tf.keras.models.Sequential([\n",
        "    Conv1D(filters=32, kernel_size=5, padding='causal', activation='relu', input_shape=[N_PAST, 1]),\n",
        "    Bidirectional(LSTM(32, return_sequences=True)),\n",
        "    Bidirectional(LSTM(32, return_sequences=True)),\n",
        "    Dense(32, activation='relu'),\n",
        "    Dense(16, activation='relu'),\n",
        "    Dense(N_FEATURES)\n",
        "])"
      ],
      "metadata": {
        "id": "CcDF7Sv1MHL4"
      },
      "execution_count": 10,
      "outputs": []
    },
    {
      "cell_type": "markdown",
      "source": [
        "# CheckPoint 생성"
      ],
      "metadata": {
        "id": "wXh8jgbQMJSS"
      }
    },
    {
      "cell_type": "code",
      "source": [
        "checkpoint_path = 'model/my_checkpoint.ckpt'\n",
        "checkpoint = ModelCheckpoint(filepath=checkpoint_path,\n",
        "                             save_weights_only=True,\n",
        "                             save_best_only=True,\n",
        "                             monitor='val_mae',\n",
        "                             verbose=1)"
      ],
      "metadata": {
        "id": "38xZdJqAMM_o"
      },
      "execution_count": 11,
      "outputs": []
    },
    {
      "cell_type": "markdown",
      "source": [
        "# Compile"
      ],
      "metadata": {
        "id": "T8IduCGzMPHq"
      }
    },
    {
      "cell_type": "code",
      "source": [
        "optimizer = tf.keras.optimizers.Adam(0.0001)\n",
        "model.compile(optimizer=optimizer, loss=tf.keras.losses.Huber(), metrics=['mae'])"
      ],
      "metadata": {
        "id": "nQp6cCXnMNh1"
      },
      "execution_count": 12,
      "outputs": []
    },
    {
      "cell_type": "markdown",
      "source": [
        "# Fit"
      ],
      "metadata": {
        "id": "azSXvgxmMYH_"
      }
    },
    {
      "cell_type": "code",
      "source": [
        "model.fit(train_set,\n",
        "          validation_data=(valid_set),\n",
        "          epochs=100,\n",
        "          callbacks=[checkpoint])"
      ],
      "metadata": {
        "colab": {
          "base_uri": "https://localhost:8080/"
        },
        "id": "-LGwShXbMbsp",
        "outputId": "e8f6a3c9-f7ad-4a1f-d56e-49236a84c6bf"
      },
      "execution_count": 13,
      "outputs": [
        {
          "output_type": "stream",
          "name": "stdout",
          "text": [
            "Epoch 1/100\n",
            "     35/Unknown - 9s 22ms/step - loss: 0.0530 - mae: 0.2522\n",
            "Epoch 1: val_mae improved from inf to 0.32522, saving model to model/my_checkpoint.ckpt\n",
            "35/35 [==============================] - 12s 96ms/step - loss: 0.0530 - mae: 0.2522 - val_loss: 0.0549 - val_mae: 0.3252\n",
            "Epoch 2/100\n",
            "35/35 [==============================] - ETA: 0s - loss: 0.0375 - mae: 0.2012\n",
            "Epoch 2: val_mae improved from 0.32522 to 0.24983, saving model to model/my_checkpoint.ckpt\n",
            "35/35 [==============================] - 1s 27ms/step - loss: 0.0375 - mae: 0.2012 - val_loss: 0.0333 - val_mae: 0.2498\n",
            "Epoch 3/100\n",
            "33/35 [===========================>..] - ETA: 0s - loss: 0.0210 - mae: 0.1494\n",
            "Epoch 3: val_mae improved from 0.24983 to 0.15003, saving model to model/my_checkpoint.ckpt\n",
            "35/35 [==============================] - 1s 27ms/step - loss: 0.0208 - mae: 0.1498 - val_loss: 0.0136 - val_mae: 0.1500\n",
            "Epoch 4/100\n",
            "35/35 [==============================] - ETA: 0s - loss: 0.0106 - mae: 0.1175\n",
            "Epoch 4: val_mae improved from 0.15003 to 0.07005, saving model to model/my_checkpoint.ckpt\n",
            "35/35 [==============================] - 1s 27ms/step - loss: 0.0106 - mae: 0.1175 - val_loss: 0.0043 - val_mae: 0.0701\n",
            "Epoch 5/100\n",
            "35/35 [==============================] - ETA: 0s - loss: 0.0081 - mae: 0.1081\n",
            "Epoch 5: val_mae improved from 0.07005 to 0.05554, saving model to model/my_checkpoint.ckpt\n",
            "35/35 [==============================] - 1s 27ms/step - loss: 0.0081 - mae: 0.1081 - val_loss: 0.0026 - val_mae: 0.0555\n",
            "Epoch 6/100\n",
            "35/35 [==============================] - ETA: 0s - loss: 0.0067 - mae: 0.0989\n",
            "Epoch 6: val_mae improved from 0.05554 to 0.04822, saving model to model/my_checkpoint.ckpt\n",
            "35/35 [==============================] - 2s 44ms/step - loss: 0.0067 - mae: 0.0989 - val_loss: 0.0019 - val_mae: 0.0482\n",
            "Epoch 7/100\n",
            "34/35 [============================>.] - ETA: 0s - loss: 0.0052 - mae: 0.0867\n",
            "Epoch 7: val_mae improved from 0.04822 to 0.04300, saving model to model/my_checkpoint.ckpt\n",
            "35/35 [==============================] - 2s 45ms/step - loss: 0.0051 - mae: 0.0857 - val_loss: 0.0015 - val_mae: 0.0430\n",
            "Epoch 8/100\n",
            "33/35 [===========================>..] - ETA: 0s - loss: 0.0039 - mae: 0.0749\n",
            "Epoch 8: val_mae improved from 0.04300 to 0.04002, saving model to model/my_checkpoint.ckpt\n",
            "35/35 [==============================] - 1s 26ms/step - loss: 0.0038 - mae: 0.0741 - val_loss: 0.0013 - val_mae: 0.0400\n",
            "Epoch 9/100\n",
            "34/35 [============================>.] - ETA: 0s - loss: 0.0030 - mae: 0.0642\n",
            "Epoch 9: val_mae improved from 0.04002 to 0.03831, saving model to model/my_checkpoint.ckpt\n",
            "35/35 [==============================] - 1s 25ms/step - loss: 0.0030 - mae: 0.0637 - val_loss: 0.0012 - val_mae: 0.0383\n",
            "Epoch 10/100\n",
            "34/35 [============================>.] - ETA: 0s - loss: 0.0025 - mae: 0.0559\n",
            "Epoch 10: val_mae improved from 0.03831 to 0.03727, saving model to model/my_checkpoint.ckpt\n",
            "35/35 [==============================] - 1s 29ms/step - loss: 0.0024 - mae: 0.0555 - val_loss: 0.0011 - val_mae: 0.0373\n",
            "Epoch 11/100\n",
            "34/35 [============================>.] - ETA: 0s - loss: 0.0021 - mae: 0.0500\n",
            "Epoch 11: val_mae improved from 0.03727 to 0.03645, saving model to model/my_checkpoint.ckpt\n",
            "35/35 [==============================] - 1s 26ms/step - loss: 0.0021 - mae: 0.0497 - val_loss: 0.0011 - val_mae: 0.0364\n",
            "Epoch 12/100\n",
            "35/35 [==============================] - ETA: 0s - loss: 0.0019 - mae: 0.0456\n",
            "Epoch 12: val_mae improved from 0.03645 to 0.03568, saving model to model/my_checkpoint.ckpt\n",
            "35/35 [==============================] - 1s 27ms/step - loss: 0.0019 - mae: 0.0456 - val_loss: 0.0011 - val_mae: 0.0357\n",
            "Epoch 13/100\n",
            "33/35 [===========================>..] - ETA: 0s - loss: 0.0018 - mae: 0.0419\n",
            "Epoch 13: val_mae improved from 0.03568 to 0.03480, saving model to model/my_checkpoint.ckpt\n",
            "35/35 [==============================] - 1s 27ms/step - loss: 0.0018 - mae: 0.0427 - val_loss: 0.0010 - val_mae: 0.0348\n",
            "Epoch 14/100\n",
            "35/35 [==============================] - ETA: 0s - loss: 0.0017 - mae: 0.0406\n",
            "Epoch 14: val_mae improved from 0.03480 to 0.03383, saving model to model/my_checkpoint.ckpt\n",
            "35/35 [==============================] - 1s 27ms/step - loss: 0.0017 - mae: 0.0406 - val_loss: 9.8244e-04 - val_mae: 0.0338\n",
            "Epoch 15/100\n",
            "33/35 [===========================>..] - ETA: 0s - loss: 0.0016 - mae: 0.0383\n",
            "Epoch 15: val_mae improved from 0.03383 to 0.03297, saving model to model/my_checkpoint.ckpt\n",
            "35/35 [==============================] - 1s 26ms/step - loss: 0.0016 - mae: 0.0392 - val_loss: 9.4093e-04 - val_mae: 0.0330\n",
            "Epoch 16/100\n",
            "34/35 [============================>.] - ETA: 0s - loss: 0.0016 - mae: 0.0384\n",
            "Epoch 16: val_mae improved from 0.03297 to 0.03226, saving model to model/my_checkpoint.ckpt\n",
            "35/35 [==============================] - 1s 26ms/step - loss: 0.0016 - mae: 0.0382 - val_loss: 9.0761e-04 - val_mae: 0.0323\n",
            "Epoch 17/100\n",
            "33/35 [===========================>..] - ETA: 0s - loss: 0.0015 - mae: 0.0366\n",
            "Epoch 17: val_mae improved from 0.03226 to 0.03163, saving model to model/my_checkpoint.ckpt\n",
            "35/35 [==============================] - 1s 26ms/step - loss: 0.0016 - mae: 0.0375 - val_loss: 8.7883e-04 - val_mae: 0.0316\n",
            "Epoch 18/100\n",
            "33/35 [===========================>..] - ETA: 0s - loss: 0.0015 - mae: 0.0360\n",
            "Epoch 18: val_mae improved from 0.03163 to 0.03107, saving model to model/my_checkpoint.ckpt\n",
            "35/35 [==============================] - 1s 26ms/step - loss: 0.0015 - mae: 0.0369 - val_loss: 8.5394e-04 - val_mae: 0.0311\n",
            "Epoch 19/100\n",
            "33/35 [===========================>..] - ETA: 0s - loss: 0.0015 - mae: 0.0355\n",
            "Epoch 19: val_mae improved from 0.03107 to 0.03056, saving model to model/my_checkpoint.ckpt\n",
            "35/35 [==============================] - 1s 27ms/step - loss: 0.0015 - mae: 0.0364 - val_loss: 8.3178e-04 - val_mae: 0.0306\n",
            "Epoch 20/100\n",
            "34/35 [============================>.] - ETA: 0s - loss: 0.0015 - mae: 0.0361\n",
            "Epoch 20: val_mae improved from 0.03056 to 0.03009, saving model to model/my_checkpoint.ckpt\n",
            "35/35 [==============================] - 1s 26ms/step - loss: 0.0015 - mae: 0.0360 - val_loss: 8.1260e-04 - val_mae: 0.0301\n",
            "Epoch 21/100\n",
            "34/35 [============================>.] - ETA: 0s - loss: 0.0015 - mae: 0.0357\n",
            "Epoch 21: val_mae improved from 0.03009 to 0.02967, saving model to model/my_checkpoint.ckpt\n",
            "35/35 [==============================] - 1s 27ms/step - loss: 0.0015 - mae: 0.0356 - val_loss: 7.9560e-04 - val_mae: 0.0297\n",
            "Epoch 22/100\n",
            "34/35 [============================>.] - ETA: 0s - loss: 0.0015 - mae: 0.0353\n",
            "Epoch 22: val_mae improved from 0.02967 to 0.02930, saving model to model/my_checkpoint.ckpt\n",
            "35/35 [==============================] - 1s 27ms/step - loss: 0.0015 - mae: 0.0353 - val_loss: 7.8054e-04 - val_mae: 0.0293\n",
            "Epoch 23/100\n",
            "34/35 [============================>.] - ETA: 0s - loss: 0.0015 - mae: 0.0350\n",
            "Epoch 23: val_mae improved from 0.02930 to 0.02895, saving model to model/my_checkpoint.ckpt\n",
            "35/35 [==============================] - 1s 27ms/step - loss: 0.0014 - mae: 0.0350 - val_loss: 7.6712e-04 - val_mae: 0.0290\n",
            "Epoch 24/100\n",
            "33/35 [===========================>..] - ETA: 0s - loss: 0.0014 - mae: 0.0336\n",
            "Epoch 24: val_mae improved from 0.02895 to 0.02864, saving model to model/my_checkpoint.ckpt\n",
            "35/35 [==============================] - 1s 26ms/step - loss: 0.0014 - mae: 0.0347 - val_loss: 7.5517e-04 - val_mae: 0.0286\n",
            "Epoch 25/100\n",
            "34/35 [============================>.] - ETA: 0s - loss: 0.0014 - mae: 0.0344\n",
            "Epoch 25: val_mae improved from 0.02864 to 0.02835, saving model to model/my_checkpoint.ckpt\n",
            "35/35 [==============================] - 1s 27ms/step - loss: 0.0014 - mae: 0.0344 - val_loss: 7.4424e-04 - val_mae: 0.0283\n",
            "Epoch 26/100\n",
            "35/35 [==============================] - ETA: 0s - loss: 0.0014 - mae: 0.0341\n",
            "Epoch 26: val_mae improved from 0.02835 to 0.02808, saving model to model/my_checkpoint.ckpt\n",
            "35/35 [==============================] - 1s 27ms/step - loss: 0.0014 - mae: 0.0341 - val_loss: 7.3426e-04 - val_mae: 0.0281\n",
            "Epoch 27/100\n",
            "33/35 [===========================>..] - ETA: 0s - loss: 0.0013 - mae: 0.0327\n",
            "Epoch 27: val_mae improved from 0.02808 to 0.02784, saving model to model/my_checkpoint.ckpt\n",
            "35/35 [==============================] - 1s 27ms/step - loss: 0.0014 - mae: 0.0338 - val_loss: 7.2537e-04 - val_mae: 0.0278\n",
            "Epoch 28/100\n",
            "33/35 [===========================>..] - ETA: 0s - loss: 0.0013 - mae: 0.0324\n",
            "Epoch 28: val_mae improved from 0.02784 to 0.02763, saving model to model/my_checkpoint.ckpt\n",
            "35/35 [==============================] - 1s 27ms/step - loss: 0.0014 - mae: 0.0336 - val_loss: 7.1729e-04 - val_mae: 0.0276\n",
            "Epoch 29/100\n",
            "34/35 [============================>.] - ETA: 0s - loss: 0.0014 - mae: 0.0333\n",
            "Epoch 29: val_mae improved from 0.02763 to 0.02744, saving model to model/my_checkpoint.ckpt\n",
            "35/35 [==============================] - 1s 26ms/step - loss: 0.0014 - mae: 0.0334 - val_loss: 7.1027e-04 - val_mae: 0.0274\n",
            "Epoch 30/100\n",
            "35/35 [==============================] - ETA: 0s - loss: 0.0014 - mae: 0.0332\n",
            "Epoch 30: val_mae improved from 0.02744 to 0.02728, saving model to model/my_checkpoint.ckpt\n",
            "35/35 [==============================] - 1s 27ms/step - loss: 0.0014 - mae: 0.0332 - val_loss: 7.0400e-04 - val_mae: 0.0273\n",
            "Epoch 31/100\n",
            "35/35 [==============================] - ETA: 0s - loss: 0.0014 - mae: 0.0330\n",
            "Epoch 31: val_mae improved from 0.02728 to 0.02714, saving model to model/my_checkpoint.ckpt\n",
            "35/35 [==============================] - 1s 27ms/step - loss: 0.0014 - mae: 0.0330 - val_loss: 6.9841e-04 - val_mae: 0.0271\n",
            "Epoch 32/100\n",
            "33/35 [===========================>..] - ETA: 0s - loss: 0.0013 - mae: 0.0316\n",
            "Epoch 32: val_mae improved from 0.02714 to 0.02702, saving model to model/my_checkpoint.ckpt\n",
            "35/35 [==============================] - 1s 27ms/step - loss: 0.0013 - mae: 0.0328 - val_loss: 6.9347e-04 - val_mae: 0.0270\n",
            "Epoch 33/100\n",
            "35/35 [==============================] - ETA: 0s - loss: 0.0013 - mae: 0.0327\n",
            "Epoch 33: val_mae improved from 0.02702 to 0.02691, saving model to model/my_checkpoint.ckpt\n",
            "35/35 [==============================] - 1s 29ms/step - loss: 0.0013 - mae: 0.0327 - val_loss: 6.8910e-04 - val_mae: 0.0269\n",
            "Epoch 34/100\n",
            "33/35 [===========================>..] - ETA: 0s - loss: 0.0013 - mae: 0.0312\n",
            "Epoch 34: val_mae improved from 0.02691 to 0.02682, saving model to model/my_checkpoint.ckpt\n",
            "35/35 [==============================] - 1s 26ms/step - loss: 0.0013 - mae: 0.0325 - val_loss: 6.8534e-04 - val_mae: 0.0268\n",
            "Epoch 35/100\n",
            "33/35 [===========================>..] - ETA: 0s - loss: 0.0013 - mae: 0.0310\n",
            "Epoch 35: val_mae improved from 0.02682 to 0.02674, saving model to model/my_checkpoint.ckpt\n",
            "35/35 [==============================] - 1s 26ms/step - loss: 0.0013 - mae: 0.0324 - val_loss: 6.8212e-04 - val_mae: 0.0267\n",
            "Epoch 36/100\n",
            "34/35 [============================>.] - ETA: 0s - loss: 0.0013 - mae: 0.0320\n",
            "Epoch 36: val_mae improved from 0.02674 to 0.02668, saving model to model/my_checkpoint.ckpt\n",
            "35/35 [==============================] - 1s 27ms/step - loss: 0.0013 - mae: 0.0322 - val_loss: 6.7924e-04 - val_mae: 0.0267\n",
            "Epoch 37/100\n",
            "34/35 [============================>.] - ETA: 0s - loss: 0.0013 - mae: 0.0319\n",
            "Epoch 37: val_mae improved from 0.02668 to 0.02665, saving model to model/my_checkpoint.ckpt\n",
            "35/35 [==============================] - 1s 27ms/step - loss: 0.0013 - mae: 0.0321 - val_loss: 6.7726e-04 - val_mae: 0.0266\n",
            "Epoch 38/100\n",
            "34/35 [============================>.] - ETA: 0s - loss: 0.0013 - mae: 0.0317\n",
            "Epoch 38: val_mae improved from 0.02665 to 0.02662, saving model to model/my_checkpoint.ckpt\n",
            "35/35 [==============================] - 1s 27ms/step - loss: 0.0013 - mae: 0.0319 - val_loss: 6.7540e-04 - val_mae: 0.0266\n",
            "Epoch 39/100\n",
            "34/35 [============================>.] - ETA: 0s - loss: 0.0013 - mae: 0.0315\n",
            "Epoch 39: val_mae did not improve from 0.02662\n",
            "35/35 [==============================] - 1s 26ms/step - loss: 0.0013 - mae: 0.0317 - val_loss: 6.7428e-04 - val_mae: 0.0266\n",
            "Epoch 40/100\n",
            "34/35 [============================>.] - ETA: 0s - loss: 0.0013 - mae: 0.0313\n",
            "Epoch 40: val_mae did not improve from 0.02662\n",
            "35/35 [==============================] - 1s 27ms/step - loss: 0.0013 - mae: 0.0316 - val_loss: 6.7296e-04 - val_mae: 0.0266\n",
            "Epoch 41/100\n",
            "35/35 [==============================] - ETA: 0s - loss: 0.0013 - mae: 0.0315\n",
            "Epoch 41: val_mae did not improve from 0.02662\n",
            "35/35 [==============================] - 1s 26ms/step - loss: 0.0013 - mae: 0.0315 - val_loss: 6.7238e-04 - val_mae: 0.0266\n",
            "Epoch 42/100\n",
            "35/35 [==============================] - ETA: 0s - loss: 0.0013 - mae: 0.0313\n",
            "Epoch 42: val_mae did not improve from 0.02662\n",
            "35/35 [==============================] - 1s 26ms/step - loss: 0.0013 - mae: 0.0313 - val_loss: 6.7112e-04 - val_mae: 0.0266\n",
            "Epoch 43/100\n",
            "35/35 [==============================] - ETA: 0s - loss: 0.0013 - mae: 0.0312\n",
            "Epoch 43: val_mae did not improve from 0.02662\n",
            "35/35 [==============================] - 1s 26ms/step - loss: 0.0013 - mae: 0.0312 - val_loss: 6.7041e-04 - val_mae: 0.0266\n",
            "Epoch 44/100\n",
            "35/35 [==============================] - ETA: 0s - loss: 0.0013 - mae: 0.0311\n",
            "Epoch 44: val_mae did not improve from 0.02662\n",
            "35/35 [==============================] - 1s 26ms/step - loss: 0.0013 - mae: 0.0311 - val_loss: 6.6992e-04 - val_mae: 0.0267\n",
            "Epoch 45/100\n",
            "34/35 [============================>.] - ETA: 0s - loss: 0.0013 - mae: 0.0307\n",
            "Epoch 45: val_mae did not improve from 0.02662\n",
            "35/35 [==============================] - 1s 27ms/step - loss: 0.0013 - mae: 0.0310 - val_loss: 6.6986e-04 - val_mae: 0.0267\n",
            "Epoch 46/100\n",
            "35/35 [==============================] - ETA: 0s - loss: 0.0013 - mae: 0.0310\n",
            "Epoch 46: val_mae did not improve from 0.02662\n",
            "35/35 [==============================] - 1s 26ms/step - loss: 0.0013 - mae: 0.0310 - val_loss: 6.6952e-04 - val_mae: 0.0267\n",
            "Epoch 47/100\n",
            "33/35 [===========================>..] - ETA: 0s - loss: 0.0012 - mae: 0.0294\n",
            "Epoch 47: val_mae did not improve from 0.02662\n",
            "35/35 [==============================] - 1s 27ms/step - loss: 0.0013 - mae: 0.0309 - val_loss: 6.6894e-04 - val_mae: 0.0267\n",
            "Epoch 48/100\n",
            "35/35 [==============================] - ETA: 0s - loss: 0.0013 - mae: 0.0308\n",
            "Epoch 48: val_mae did not improve from 0.02662\n",
            "35/35 [==============================] - 1s 26ms/step - loss: 0.0013 - mae: 0.0308 - val_loss: 6.6887e-04 - val_mae: 0.0267\n",
            "Epoch 49/100\n",
            "33/35 [===========================>..] - ETA: 0s - loss: 0.0012 - mae: 0.0292\n",
            "Epoch 49: val_mae did not improve from 0.02662\n",
            "35/35 [==============================] - 1s 27ms/step - loss: 0.0013 - mae: 0.0308 - val_loss: 6.6857e-04 - val_mae: 0.0267\n",
            "Epoch 50/100\n",
            "34/35 [============================>.] - ETA: 0s - loss: 0.0013 - mae: 0.0303\n",
            "Epoch 50: val_mae did not improve from 0.02662\n",
            "35/35 [==============================] - 1s 26ms/step - loss: 0.0013 - mae: 0.0307 - val_loss: 6.6847e-04 - val_mae: 0.0268\n",
            "Epoch 51/100\n",
            "33/35 [===========================>..] - ETA: 0s - loss: 0.0012 - mae: 0.0291\n",
            "Epoch 51: val_mae did not improve from 0.02662\n",
            "35/35 [==============================] - 1s 26ms/step - loss: 0.0013 - mae: 0.0307 - val_loss: 6.6830e-04 - val_mae: 0.0268\n",
            "Epoch 52/100\n",
            "35/35 [==============================] - ETA: 0s - loss: 0.0013 - mae: 0.0306\n",
            "Epoch 52: val_mae did not improve from 0.02662\n",
            "35/35 [==============================] - 1s 27ms/step - loss: 0.0013 - mae: 0.0306 - val_loss: 6.6813e-04 - val_mae: 0.0268\n",
            "Epoch 53/100\n",
            "34/35 [============================>.] - ETA: 0s - loss: 0.0012 - mae: 0.0302\n",
            "Epoch 53: val_mae did not improve from 0.02662\n",
            "35/35 [==============================] - 1s 26ms/step - loss: 0.0012 - mae: 0.0306 - val_loss: 6.6806e-04 - val_mae: 0.0268\n",
            "Epoch 54/100\n",
            "35/35 [==============================] - ETA: 0s - loss: 0.0012 - mae: 0.0305\n",
            "Epoch 54: val_mae did not improve from 0.02662\n",
            "35/35 [==============================] - 1s 28ms/step - loss: 0.0012 - mae: 0.0305 - val_loss: 6.6790e-04 - val_mae: 0.0268\n",
            "Epoch 55/100\n",
            "35/35 [==============================] - ETA: 0s - loss: 0.0012 - mae: 0.0305\n",
            "Epoch 55: val_mae did not improve from 0.02662\n",
            "35/35 [==============================] - 1s 27ms/step - loss: 0.0012 - mae: 0.0305 - val_loss: 6.6813e-04 - val_mae: 0.0268\n",
            "Epoch 56/100\n",
            "34/35 [============================>.] - ETA: 0s - loss: 0.0012 - mae: 0.0300\n",
            "Epoch 56: val_mae did not improve from 0.02662\n",
            "35/35 [==============================] - 1s 26ms/step - loss: 0.0012 - mae: 0.0304 - val_loss: 6.6795e-04 - val_mae: 0.0269\n",
            "Epoch 57/100\n",
            "33/35 [===========================>..] - ETA: 0s - loss: 0.0012 - mae: 0.0288\n",
            "Epoch 57: val_mae did not improve from 0.02662\n",
            "35/35 [==============================] - 1s 27ms/step - loss: 0.0012 - mae: 0.0304 - val_loss: 6.6786e-04 - val_mae: 0.0269\n",
            "Epoch 58/100\n",
            "35/35 [==============================] - ETA: 0s - loss: 0.0012 - mae: 0.0304\n",
            "Epoch 58: val_mae did not improve from 0.02662\n",
            "35/35 [==============================] - 1s 26ms/step - loss: 0.0012 - mae: 0.0304 - val_loss: 6.6769e-04 - val_mae: 0.0269\n",
            "Epoch 59/100\n",
            "35/35 [==============================] - ETA: 0s - loss: 0.0012 - mae: 0.0303\n",
            "Epoch 59: val_mae did not improve from 0.02662\n",
            "35/35 [==============================] - 1s 27ms/step - loss: 0.0012 - mae: 0.0303 - val_loss: 6.6748e-04 - val_mae: 0.0269\n",
            "Epoch 60/100\n",
            "33/35 [===========================>..] - ETA: 0s - loss: 0.0012 - mae: 0.0287\n",
            "Epoch 60: val_mae did not improve from 0.02662\n",
            "35/35 [==============================] - 1s 26ms/step - loss: 0.0012 - mae: 0.0303 - val_loss: 6.6745e-04 - val_mae: 0.0269\n",
            "Epoch 61/100\n",
            "33/35 [===========================>..] - ETA: 0s - loss: 0.0012 - mae: 0.0287\n",
            "Epoch 61: val_mae did not improve from 0.02662\n",
            "35/35 [==============================] - 1s 26ms/step - loss: 0.0012 - mae: 0.0303 - val_loss: 6.6728e-04 - val_mae: 0.0269\n",
            "Epoch 62/100\n",
            "33/35 [===========================>..] - ETA: 0s - loss: 0.0012 - mae: 0.0286\n",
            "Epoch 62: val_mae did not improve from 0.02662\n",
            "35/35 [==============================] - 1s 26ms/step - loss: 0.0012 - mae: 0.0302 - val_loss: 6.6730e-04 - val_mae: 0.0269\n",
            "Epoch 63/100\n",
            "34/35 [============================>.] - ETA: 0s - loss: 0.0012 - mae: 0.0298\n",
            "Epoch 63: val_mae did not improve from 0.02662\n",
            "35/35 [==============================] - 1s 26ms/step - loss: 0.0012 - mae: 0.0302 - val_loss: 6.6736e-04 - val_mae: 0.0269\n",
            "Epoch 64/100\n",
            "34/35 [============================>.] - ETA: 0s - loss: 0.0012 - mae: 0.0297\n",
            "Epoch 64: val_mae did not improve from 0.02662\n",
            "35/35 [==============================] - 1s 27ms/step - loss: 0.0012 - mae: 0.0302 - val_loss: 6.6731e-04 - val_mae: 0.0270\n",
            "Epoch 65/100\n",
            "33/35 [===========================>..] - ETA: 0s - loss: 0.0011 - mae: 0.0285\n",
            "Epoch 65: val_mae did not improve from 0.02662\n",
            "35/35 [==============================] - 1s 25ms/step - loss: 0.0012 - mae: 0.0301 - val_loss: 6.6734e-04 - val_mae: 0.0270\n",
            "Epoch 66/100\n",
            "35/35 [==============================] - ETA: 0s - loss: 0.0012 - mae: 0.0301\n",
            "Epoch 66: val_mae did not improve from 0.02662\n",
            "35/35 [==============================] - 1s 27ms/step - loss: 0.0012 - mae: 0.0301 - val_loss: 6.6730e-04 - val_mae: 0.0270\n",
            "Epoch 67/100\n",
            "34/35 [============================>.] - ETA: 0s - loss: 0.0012 - mae: 0.0296\n",
            "Epoch 67: val_mae did not improve from 0.02662\n",
            "35/35 [==============================] - 1s 26ms/step - loss: 0.0012 - mae: 0.0301 - val_loss: 6.6733e-04 - val_mae: 0.0270\n",
            "Epoch 68/100\n",
            "35/35 [==============================] - ETA: 0s - loss: 0.0012 - mae: 0.0301\n",
            "Epoch 68: val_mae did not improve from 0.02662\n",
            "35/35 [==============================] - 1s 26ms/step - loss: 0.0012 - mae: 0.0301 - val_loss: 6.6740e-04 - val_mae: 0.0270\n",
            "Epoch 69/100\n",
            "35/35 [==============================] - ETA: 0s - loss: 0.0012 - mae: 0.0300\n",
            "Epoch 69: val_mae did not improve from 0.02662\n",
            "35/35 [==============================] - 1s 27ms/step - loss: 0.0012 - mae: 0.0300 - val_loss: 6.6753e-04 - val_mae: 0.0270\n",
            "Epoch 70/100\n",
            "33/35 [===========================>..] - ETA: 0s - loss: 0.0011 - mae: 0.0283\n",
            "Epoch 70: val_mae did not improve from 0.02662\n",
            "35/35 [==============================] - 1s 26ms/step - loss: 0.0012 - mae: 0.0300 - val_loss: 6.6733e-04 - val_mae: 0.0270\n",
            "Epoch 71/100\n",
            "35/35 [==============================] - ETA: 0s - loss: 0.0012 - mae: 0.0300\n",
            "Epoch 71: val_mae did not improve from 0.02662\n",
            "35/35 [==============================] - 1s 26ms/step - loss: 0.0012 - mae: 0.0300 - val_loss: 6.6737e-04 - val_mae: 0.0270\n",
            "Epoch 72/100\n",
            "35/35 [==============================] - ETA: 0s - loss: 0.0012 - mae: 0.0299\n",
            "Epoch 72: val_mae did not improve from 0.02662\n",
            "35/35 [==============================] - 1s 26ms/step - loss: 0.0012 - mae: 0.0299 - val_loss: 6.6738e-04 - val_mae: 0.0271\n",
            "Epoch 73/100\n",
            "33/35 [===========================>..] - ETA: 0s - loss: 0.0011 - mae: 0.0283\n",
            "Epoch 73: val_mae did not improve from 0.02662\n",
            "35/35 [==============================] - 1s 26ms/step - loss: 0.0012 - mae: 0.0299 - val_loss: 6.6729e-04 - val_mae: 0.0271\n",
            "Epoch 74/100\n",
            "34/35 [============================>.] - ETA: 0s - loss: 0.0012 - mae: 0.0294\n",
            "Epoch 74: val_mae did not improve from 0.02662\n",
            "35/35 [==============================] - 1s 26ms/step - loss: 0.0012 - mae: 0.0299 - val_loss: 6.6690e-04 - val_mae: 0.0271\n",
            "Epoch 75/100\n",
            "33/35 [===========================>..] - ETA: 0s - loss: 0.0011 - mae: 0.0282\n",
            "Epoch 75: val_mae did not improve from 0.02662\n",
            "35/35 [==============================] - 1s 26ms/step - loss: 0.0012 - mae: 0.0299 - val_loss: 6.6652e-04 - val_mae: 0.0271\n",
            "Epoch 76/100\n",
            "34/35 [============================>.] - ETA: 0s - loss: 0.0012 - mae: 0.0293\n",
            "Epoch 76: val_mae did not improve from 0.02662\n",
            "35/35 [==============================] - 1s 26ms/step - loss: 0.0012 - mae: 0.0298 - val_loss: 6.6638e-04 - val_mae: 0.0271\n",
            "Epoch 77/100\n",
            "34/35 [============================>.] - ETA: 0s - loss: 0.0012 - mae: 0.0293\n",
            "Epoch 77: val_mae did not improve from 0.02662\n",
            "35/35 [==============================] - 1s 27ms/step - loss: 0.0012 - mae: 0.0298 - val_loss: 6.6581e-04 - val_mae: 0.0271\n",
            "Epoch 78/100\n",
            "35/35 [==============================] - ETA: 0s - loss: 0.0012 - mae: 0.0298\n",
            "Epoch 78: val_mae did not improve from 0.02662\n",
            "35/35 [==============================] - 1s 26ms/step - loss: 0.0012 - mae: 0.0298 - val_loss: 6.6556e-04 - val_mae: 0.0271\n",
            "Epoch 79/100\n",
            "33/35 [===========================>..] - ETA: 0s - loss: 0.0011 - mae: 0.0281\n",
            "Epoch 79: val_mae did not improve from 0.02662\n",
            "35/35 [==============================] - 1s 26ms/step - loss: 0.0012 - mae: 0.0298 - val_loss: 6.6508e-04 - val_mae: 0.0271\n",
            "Epoch 80/100\n",
            "33/35 [===========================>..] - ETA: 0s - loss: 0.0011 - mae: 0.0280\n",
            "Epoch 80: val_mae did not improve from 0.02662\n",
            "35/35 [==============================] - 1s 26ms/step - loss: 0.0012 - mae: 0.0297 - val_loss: 6.6475e-04 - val_mae: 0.0271\n",
            "Epoch 81/100\n",
            "35/35 [==============================] - ETA: 0s - loss: 0.0012 - mae: 0.0297\n",
            "Epoch 81: val_mae did not improve from 0.02662\n",
            "35/35 [==============================] - 2s 45ms/step - loss: 0.0012 - mae: 0.0297 - val_loss: 6.6431e-04 - val_mae: 0.0271\n",
            "Epoch 82/100\n",
            "35/35 [==============================] - ETA: 0s - loss: 0.0012 - mae: 0.0297\n",
            "Epoch 82: val_mae did not improve from 0.02662\n",
            "35/35 [==============================] - 1s 26ms/step - loss: 0.0012 - mae: 0.0297 - val_loss: 6.6409e-04 - val_mae: 0.0271\n",
            "Epoch 83/100\n",
            "34/35 [============================>.] - ETA: 0s - loss: 0.0012 - mae: 0.0291\n",
            "Epoch 83: val_mae did not improve from 0.02662\n",
            "35/35 [==============================] - 1s 26ms/step - loss: 0.0012 - mae: 0.0296 - val_loss: 6.6381e-04 - val_mae: 0.0271\n",
            "Epoch 84/100\n",
            "35/35 [==============================] - ETA: 0s - loss: 0.0012 - mae: 0.0296\n",
            "Epoch 84: val_mae did not improve from 0.02662\n",
            "35/35 [==============================] - 1s 26ms/step - loss: 0.0012 - mae: 0.0296 - val_loss: 6.6357e-04 - val_mae: 0.0271\n",
            "Epoch 85/100\n",
            "34/35 [============================>.] - ETA: 0s - loss: 0.0012 - mae: 0.0291\n",
            "Epoch 85: val_mae did not improve from 0.02662\n",
            "35/35 [==============================] - 1s 26ms/step - loss: 0.0012 - mae: 0.0296 - val_loss: 6.6275e-04 - val_mae: 0.0271\n",
            "Epoch 86/100\n",
            "33/35 [===========================>..] - ETA: 0s - loss: 0.0011 - mae: 0.0279\n",
            "Epoch 86: val_mae did not improve from 0.02662\n",
            "35/35 [==============================] - 1s 26ms/step - loss: 0.0012 - mae: 0.0296 - val_loss: 6.6250e-04 - val_mae: 0.0271\n",
            "Epoch 87/100\n",
            "34/35 [============================>.] - ETA: 0s - loss: 0.0012 - mae: 0.0290\n",
            "Epoch 87: val_mae did not improve from 0.02662\n",
            "35/35 [==============================] - 1s 27ms/step - loss: 0.0012 - mae: 0.0295 - val_loss: 6.6188e-04 - val_mae: 0.0271\n",
            "Epoch 88/100\n",
            "35/35 [==============================] - ETA: 0s - loss: 0.0012 - mae: 0.0295\n",
            "Epoch 88: val_mae did not improve from 0.02662\n",
            "35/35 [==============================] - 1s 27ms/step - loss: 0.0012 - mae: 0.0295 - val_loss: 6.6148e-04 - val_mae: 0.0270\n",
            "Epoch 89/100\n",
            "35/35 [==============================] - ETA: 0s - loss: 0.0012 - mae: 0.0295\n",
            "Epoch 89: val_mae did not improve from 0.02662\n",
            "35/35 [==============================] - 1s 27ms/step - loss: 0.0012 - mae: 0.0295 - val_loss: 6.6054e-04 - val_mae: 0.0270\n",
            "Epoch 90/100\n",
            "33/35 [===========================>..] - ETA: 0s - loss: 0.0011 - mae: 0.0277\n",
            "Epoch 90: val_mae did not improve from 0.02662\n",
            "35/35 [==============================] - 1s 27ms/step - loss: 0.0012 - mae: 0.0295 - val_loss: 6.5997e-04 - val_mae: 0.0270\n",
            "Epoch 91/100\n",
            "35/35 [==============================] - ETA: 0s - loss: 0.0012 - mae: 0.0294\n",
            "Epoch 91: val_mae did not improve from 0.02662\n",
            "35/35 [==============================] - 1s 27ms/step - loss: 0.0012 - mae: 0.0294 - val_loss: 6.5946e-04 - val_mae: 0.0270\n",
            "Epoch 92/100\n",
            "33/35 [===========================>..] - ETA: 0s - loss: 0.0011 - mae: 0.0277\n",
            "Epoch 92: val_mae did not improve from 0.02662\n",
            "35/35 [==============================] - 1s 26ms/step - loss: 0.0012 - mae: 0.0294 - val_loss: 6.5935e-04 - val_mae: 0.0270\n",
            "Epoch 93/100\n",
            "35/35 [==============================] - ETA: 0s - loss: 0.0012 - mae: 0.0294\n",
            "Epoch 93: val_mae did not improve from 0.02662\n",
            "35/35 [==============================] - 1s 26ms/step - loss: 0.0012 - mae: 0.0294 - val_loss: 6.5868e-04 - val_mae: 0.0270\n",
            "Epoch 94/100\n",
            "34/35 [============================>.] - ETA: 0s - loss: 0.0011 - mae: 0.0288\n",
            "Epoch 94: val_mae did not improve from 0.02662\n",
            "35/35 [==============================] - 1s 27ms/step - loss: 0.0012 - mae: 0.0293 - val_loss: 6.5777e-04 - val_mae: 0.0270\n",
            "Epoch 95/100\n",
            "33/35 [===========================>..] - ETA: 0s - loss: 0.0011 - mae: 0.0276\n",
            "Epoch 95: val_mae did not improve from 0.02662\n",
            "35/35 [==============================] - 1s 27ms/step - loss: 0.0012 - mae: 0.0293 - val_loss: 6.5724e-04 - val_mae: 0.0270\n",
            "Epoch 96/100\n",
            "35/35 [==============================] - ETA: 0s - loss: 0.0011 - mae: 0.0293\n",
            "Epoch 96: val_mae did not improve from 0.02662\n",
            "35/35 [==============================] - 1s 27ms/step - loss: 0.0011 - mae: 0.0293 - val_loss: 6.5664e-04 - val_mae: 0.0270\n",
            "Epoch 97/100\n",
            "35/35 [==============================] - ETA: 0s - loss: 0.0011 - mae: 0.0292\n",
            "Epoch 97: val_mae did not improve from 0.02662\n",
            "35/35 [==============================] - 1s 26ms/step - loss: 0.0011 - mae: 0.0292 - val_loss: 6.5566e-04 - val_mae: 0.0270\n",
            "Epoch 98/100\n",
            "33/35 [===========================>..] - ETA: 0s - loss: 0.0011 - mae: 0.0275\n",
            "Epoch 98: val_mae did not improve from 0.02662\n",
            "35/35 [==============================] - 1s 26ms/step - loss: 0.0011 - mae: 0.0292 - val_loss: 6.5520e-04 - val_mae: 0.0270\n",
            "Epoch 99/100\n",
            "33/35 [===========================>..] - ETA: 0s - loss: 0.0011 - mae: 0.0275\n",
            "Epoch 99: val_mae did not improve from 0.02662\n",
            "35/35 [==============================] - 1s 26ms/step - loss: 0.0011 - mae: 0.0292 - val_loss: 6.5425e-04 - val_mae: 0.0269\n",
            "Epoch 100/100\n",
            "35/35 [==============================] - ETA: 0s - loss: 0.0011 - mae: 0.0291\n",
            "Epoch 100: val_mae did not improve from 0.02662\n",
            "35/35 [==============================] - 1s 26ms/step - loss: 0.0011 - mae: 0.0291 - val_loss: 6.5318e-04 - val_mae: 0.0269\n"
          ]
        },
        {
          "output_type": "execute_result",
          "data": {
            "text/plain": [
              "<keras.callbacks.History at 0x7facebe74150>"
            ]
          },
          "metadata": {},
          "execution_count": 13
        }
      ]
    },
    {
      "cell_type": "code",
      "source": [
        "model.load_weights(checkpoint_path)"
      ],
      "metadata": {
        "colab": {
          "base_uri": "https://localhost:8080/"
        },
        "id": "8rKy83ZKPyPK",
        "outputId": "03f891b1-f8fe-4743-a075-8cf3e82a76d4"
      },
      "execution_count": 14,
      "outputs": [
        {
          "output_type": "execute_result",
          "data": {
            "text/plain": [
              "<tensorflow.python.training.tracking.util.CheckpointLoadStatus at 0x7face73c1dd0>"
            ]
          },
          "metadata": {},
          "execution_count": 14
        }
      ]
    }
  ]
}